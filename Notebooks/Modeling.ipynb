{
 "cells": [
  {
   "cell_type": "markdown",
   "metadata": {},
   "source": [
    "# Modeling"
   ]
  },
  {
   "cell_type": "markdown",
   "metadata": {},
   "source": [
    "- [Thresholding](#chapter1)\n",
    "- [Logistic Regression](#chapter2)\n",
    "- [K-Nearest Neighbors](#chapter3)\n",
    "- [Random Forest Classifier](#chapter4)\n",
    "    - [Misclassification Analysis](#chapter4.1)\n",
    "- [Summary](#chapter5)"
   ]
  },
  {
   "cell_type": "markdown",
   "metadata": {},
   "source": [
    "I'm going to test out a few different models. The most important thing to look for is the recall of each model, since I want to minimize false negative predictions. In the real world, if there is a tornado warning but no tornado, nothing too devastating will happen. However, if there's no warning and a tornado occurs, the consequences could be life-threatening."
   ]
  },
  {
   "cell_type": "code",
   "execution_count": 1,
   "metadata": {},
   "outputs": [],
   "source": [
    "import pandas as pd\n",
    "import numpy as np\n",
    "import matplotlib.pyplot as plt\n",
    "import seaborn as sns\n",
    "\n",
    "from sklearn.model_selection import train_test_split, GridSearchCV, cross_val_score\n",
    "from sklearn.linear_model import LogisticRegression\n",
    "from sklearn.neighbors import KNeighborsClassifier\n",
    "from sklearn.ensemble import RandomForestClassifier\n",
    "from sklearn.metrics import classification_report, confusion_matrix, roc_curve, auc, recall_score, \\\n",
    "                            precision_score, f1_score, precision_recall_curve, fbeta_score, \\\n",
    "                            plot_precision_recall_curve\n",
    "\n",
    "import warnings \n",
    "warnings.filterwarnings('ignore')"
   ]
  },
  {
   "cell_type": "markdown",
   "metadata": {},
   "source": [
    "First let's read in the data files."
   ]
  },
  {
   "cell_type": "code",
   "execution_count": 2,
   "metadata": {},
   "outputs": [],
   "source": [
    "tornado = pd.read_csv('/Users/gregoryolson/Documents/Data Science CT/Capstone/Capstone_Tornado/Data/tornado_modeling.csv')"
   ]
  },
  {
   "cell_type": "code",
   "execution_count": 3,
   "metadata": {},
   "outputs": [],
   "source": [
    "tornado_target = pd.read_csv('/Users/gregoryolson/Documents/Data Science CT/Capstone/Capstone_Tornado/Data/tornado_downsized.csv')"
   ]
  },
  {
   "cell_type": "code",
   "execution_count": 4,
   "metadata": {},
   "outputs": [
    {
     "data": {
      "text/html": [
       "<div>\n",
       "<style scoped>\n",
       "    .dataframe tbody tr th:only-of-type {\n",
       "        vertical-align: middle;\n",
       "    }\n",
       "\n",
       "    .dataframe tbody tr th {\n",
       "        vertical-align: top;\n",
       "    }\n",
       "\n",
       "    .dataframe thead th {\n",
       "        text-align: right;\n",
       "    }\n",
       "</style>\n",
       "<table border=\"1\" class=\"dataframe\">\n",
       "  <thead>\n",
       "    <tr style=\"text-align: right;\">\n",
       "      <th></th>\n",
       "      <th>LATITUDE</th>\n",
       "      <th>LONGITUDE</th>\n",
       "      <th>ELEVATION</th>\n",
       "      <th>DEWP</th>\n",
       "      <th>GUST</th>\n",
       "      <th>MAX</th>\n",
       "      <th>MIN</th>\n",
       "      <th>MXSPD</th>\n",
       "      <th>PRCP</th>\n",
       "      <th>SLP</th>\n",
       "      <th>STP</th>\n",
       "      <th>TEMP</th>\n",
       "      <th>VISIB</th>\n",
       "      <th>WDSP</th>\n",
       "      <th>APRIL</th>\n",
       "      <th>JULY</th>\n",
       "    </tr>\n",
       "  </thead>\n",
       "  <tbody>\n",
       "    <tr>\n",
       "      <th>0</th>\n",
       "      <td>-0.850279</td>\n",
       "      <td>0.492887</td>\n",
       "      <td>-0.995130</td>\n",
       "      <td>0.301508</td>\n",
       "      <td>0.348315</td>\n",
       "      <td>-0.181287</td>\n",
       "      <td>0.265766</td>\n",
       "      <td>0.163934</td>\n",
       "      <td>0.045977</td>\n",
       "      <td>-0.316667</td>\n",
       "      <td>0.672365</td>\n",
       "      <td>0.103542</td>\n",
       "      <td>-5.166667</td>\n",
       "      <td>1.400</td>\n",
       "      <td>0</td>\n",
       "      <td>0</td>\n",
       "    </tr>\n",
       "    <tr>\n",
       "      <th>1</th>\n",
       "      <td>0.000895</td>\n",
       "      <td>-0.661856</td>\n",
       "      <td>0.607143</td>\n",
       "      <td>0.346734</td>\n",
       "      <td>-0.325843</td>\n",
       "      <td>0.228070</td>\n",
       "      <td>0.495495</td>\n",
       "      <td>-0.327869</td>\n",
       "      <td>0.000000</td>\n",
       "      <td>0.200000</td>\n",
       "      <td>-0.239316</td>\n",
       "      <td>0.386921</td>\n",
       "      <td>-0.750000</td>\n",
       "      <td>0.325</td>\n",
       "      <td>0</td>\n",
       "      <td>0</td>\n",
       "    </tr>\n",
       "    <tr>\n",
       "      <th>2</th>\n",
       "      <td>-0.873778</td>\n",
       "      <td>0.117740</td>\n",
       "      <td>-0.876623</td>\n",
       "      <td>0.844221</td>\n",
       "      <td>-0.112360</td>\n",
       "      <td>1.000000</td>\n",
       "      <td>0.851351</td>\n",
       "      <td>0.311475</td>\n",
       "      <td>0.000000</td>\n",
       "      <td>-0.766667</td>\n",
       "      <td>0.284900</td>\n",
       "      <td>0.866485</td>\n",
       "      <td>-1.500000</td>\n",
       "      <td>-0.850</td>\n",
       "      <td>0</td>\n",
       "      <td>0</td>\n",
       "    </tr>\n",
       "    <tr>\n",
       "      <th>3</th>\n",
       "      <td>0.597711</td>\n",
       "      <td>0.548893</td>\n",
       "      <td>0.000000</td>\n",
       "      <td>0.321608</td>\n",
       "      <td>0.112360</td>\n",
       "      <td>-0.087719</td>\n",
       "      <td>0.306306</td>\n",
       "      <td>0.311475</td>\n",
       "      <td>7.356322</td>\n",
       "      <td>0.150000</td>\n",
       "      <td>0.125356</td>\n",
       "      <td>0.130790</td>\n",
       "      <td>-0.166667</td>\n",
       "      <td>-0.275</td>\n",
       "      <td>0</td>\n",
       "      <td>0</td>\n",
       "    </tr>\n",
       "    <tr>\n",
       "      <th>4</th>\n",
       "      <td>0.875913</td>\n",
       "      <td>0.329284</td>\n",
       "      <td>0.701299</td>\n",
       "      <td>0.251256</td>\n",
       "      <td>0.213483</td>\n",
       "      <td>0.409357</td>\n",
       "      <td>0.306306</td>\n",
       "      <td>-0.163934</td>\n",
       "      <td>4.827586</td>\n",
       "      <td>-0.200000</td>\n",
       "      <td>-0.649573</td>\n",
       "      <td>0.245232</td>\n",
       "      <td>-0.583333</td>\n",
       "      <td>-0.200</td>\n",
       "      <td>0</td>\n",
       "      <td>0</td>\n",
       "    </tr>\n",
       "  </tbody>\n",
       "</table>\n",
       "</div>"
      ],
      "text/plain": [
       "   LATITUDE  LONGITUDE  ELEVATION      DEWP      GUST       MAX       MIN  \\\n",
       "0 -0.850279   0.492887  -0.995130  0.301508  0.348315 -0.181287  0.265766   \n",
       "1  0.000895  -0.661856   0.607143  0.346734 -0.325843  0.228070  0.495495   \n",
       "2 -0.873778   0.117740  -0.876623  0.844221 -0.112360  1.000000  0.851351   \n",
       "3  0.597711   0.548893   0.000000  0.321608  0.112360 -0.087719  0.306306   \n",
       "4  0.875913   0.329284   0.701299  0.251256  0.213483  0.409357  0.306306   \n",
       "\n",
       "      MXSPD      PRCP       SLP       STP      TEMP     VISIB   WDSP  APRIL  \\\n",
       "0  0.163934  0.045977 -0.316667  0.672365  0.103542 -5.166667  1.400      0   \n",
       "1 -0.327869  0.000000  0.200000 -0.239316  0.386921 -0.750000  0.325      0   \n",
       "2  0.311475  0.000000 -0.766667  0.284900  0.866485 -1.500000 -0.850      0   \n",
       "3  0.311475  7.356322  0.150000  0.125356  0.130790 -0.166667 -0.275      0   \n",
       "4 -0.163934  4.827586 -0.200000 -0.649573  0.245232 -0.583333 -0.200      0   \n",
       "\n",
       "   JULY  \n",
       "0     0  \n",
       "1     0  \n",
       "2     0  \n",
       "3     0  \n",
       "4     0  "
      ]
     },
     "execution_count": 4,
     "metadata": {},
     "output_type": "execute_result"
    }
   ],
   "source": [
    "tornado.head()"
   ]
  },
  {
   "cell_type": "markdown",
   "metadata": {},
   "source": [
    "I found that the most relevant features were GUST and SLP while testing feature importance. Other non-colinear features that were less important but still significant to some degree were LATITUDE, ELEVATION, VISIB, WDSP, APRIL, and JULY. These will be the features that I use during the modeling process."
   ]
  },
  {
   "cell_type": "code",
   "execution_count": 5,
   "metadata": {},
   "outputs": [],
   "source": [
    "# list of relevant columns\n",
    "features = ['LATITUDE', 'ELEVATION', 'GUST', 'SLP', 'VISIB', 'WDSP', 'APRIL', 'JULY']"
   ]
  },
  {
   "cell_type": "code",
   "execution_count": 6,
   "metadata": {},
   "outputs": [],
   "source": [
    "# create X and y variables\n",
    "X = tornado[features]\n",
    "y = tornado_target['TORNADO']"
   ]
  },
  {
   "cell_type": "code",
   "execution_count": 7,
   "metadata": {},
   "outputs": [],
   "source": [
    "# split data into train and test sets\n",
    "X_train, X_test, y_train, y_test = train_test_split(X, y, test_size=0.5, random_state=45)"
   ]
  },
  {
   "cell_type": "markdown",
   "metadata": {},
   "source": [
    "Since there was a fair amount of missing data, there were too few tornado events to use a 0.8/0.2 train/test split so I decided to use a .5/.5 split. This will increase variance but will hopefully reduce overfitting."
   ]
  },
  {
   "cell_type": "markdown",
   "metadata": {},
   "source": [
    "# Thresholding <a class=\"anchor\" id=\"chapter1\"></a>"
   ]
  },
  {
   "cell_type": "markdown",
   "metadata": {},
   "source": [
    "The function below returns the best threshold for y_pred. I have decided that the optimal threshold is one that has a precision as close to 0.5 as possible. The model with the best corresponding recall will be the best model."
   ]
  },
  {
   "cell_type": "code",
   "execution_count": 8,
   "metadata": {},
   "outputs": [],
   "source": [
    "# define threshold function\n",
    "def threshold(model, X_test, y_test):\n",
    "    \n",
    "    # create list of thresholds to test\n",
    "    thresh_dict = {}\n",
    "    nums = list(range(1,100))\n",
    "    thresh_list = [l*0.01 for l in nums]\n",
    "    \n",
    "    # loop through thresh_list to get y_pred, then precision score\n",
    "    for e in thresh_list:\n",
    "        y_pred = np.where(model.predict_proba(X_test)[:,1] > e, 1, 0)\n",
    "        score_precision = precision_score(y_test, y_pred)\n",
    "        \n",
    "        # assign all scores > 0.5 to dictionary with threshold as key\n",
    "        if score_precision > 0.5:\n",
    "            thresh_dict[e] = score_precision - 0.5\n",
    "        \n",
    "    # return threshold value corresponding to precision closest to 0.5\n",
    "    return min(thresh_dict, key=thresh_dict.get)"
   ]
  },
  {
   "cell_type": "markdown",
   "metadata": {},
   "source": [
    "# Logistic Regression <a class=\"anchor\" id=\"chapter2\"></a>"
   ]
  },
  {
   "cell_type": "markdown",
   "metadata": {},
   "source": [
    "The first model I want to test is Logistic Regression. I need to first find the optimal C value by using GrisSearchCV"
   ]
  },
  {
   "cell_type": "code",
   "execution_count": 9,
   "metadata": {},
   "outputs": [
    {
     "name": "stdout",
     "output_type": "stream",
     "text": [
      "Tuned Logistic Regression Parameters: {'C': 0.4393970560760795}\n",
      "Best Score: 0.8996227496846692\n"
     ]
    }
   ],
   "source": [
    "# set up param_grid with various C values\n",
    "c_space = np.logspace(-5, 8, 15)\n",
    "param_grid = {'C': c_space}\n",
    "\n",
    "# instantiate, perform cross-validation, and fit model\n",
    "logreg = LogisticRegression(max_iter=1000)\n",
    "logreg_cv = GridSearchCV(logreg, param_grid, scoring='roc_auc', cv=5)\n",
    "logreg_cv.fit(X_train, y_train)\n",
    "y_pred = logreg_cv.predict(X_test)\n",
    "\n",
    "print(\"Tuned Logistic Regression Parameters: {}\".format(logreg_cv.best_params_)) \n",
    "print(\"Best Score: {}\".format(logreg_cv.best_score_))"
   ]
  },
  {
   "cell_type": "code",
   "execution_count": 10,
   "metadata": {},
   "outputs": [
    {
     "name": "stdout",
     "output_type": "stream",
     "text": [
      "[0.90962963 0.83777778 0.90814815 0.89851852 0.93962848]\n",
      "Mean AUC Score:  0.8987405114092419\n",
      "0.17\n"
     ]
    }
   ],
   "source": [
    "# instantiate, fit, and predict logreg model with optimal C parameter, threshold\n",
    "logreg = LogisticRegression(C=10**0.439397, max_iter=1000)\n",
    "logreg.fit(X_train, y_train)\n",
    "thresh = threshold(logreg, X_test, y_test)\n",
    "y_pred = np.where(logreg.predict_proba(X_test)[:,1] > thresh, 1, 0)\n",
    "logreg_recall = recall_score(y_test, y_pred)\n",
    "\n",
    "# use cross_val_score with scoring='roc_auc'\n",
    "logreg_cv_score = cross_val_score(logreg, X_train, y_train, cv=5, scoring='roc_auc')\n",
    "print(logreg_cv_score)\n",
    "print(\"Mean AUC Score: \", logreg_cv_score.mean())\n",
    "print(thresh)"
   ]
  },
  {
   "cell_type": "code",
   "execution_count": 11,
   "metadata": {
    "scrolled": true
   },
   "outputs": [
    {
     "name": "stdout",
     "output_type": "stream",
     "text": [
      "Classification Report\n",
      "-----------------------------------------------------\n",
      "              precision    recall  f1-score   support\n",
      "\n",
      "           0       0.95      0.78      0.86       368\n",
      "           1       0.51      0.86      0.64        97\n",
      "\n",
      "    accuracy                           0.80       465\n",
      "   macro avg       0.73      0.82      0.75       465\n",
      "weighted avg       0.86      0.80      0.81       465\n",
      "\n"
     ]
    }
   ],
   "source": [
    "# print classification report\n",
    "print('Classification Report')\n",
    "print('-----------------------------------------------------')\n",
    "print(classification_report(y_test, y_pred))"
   ]
  },
  {
   "cell_type": "code",
   "execution_count": 12,
   "metadata": {},
   "outputs": [
    {
     "data": {
      "image/png": "[encoded data removed]",
      "text/plain": [
       "<Figure size 504x504 with 2 Axes>"
      ]
     },
     "metadata": {
      "needs_background": "light"
     },
     "output_type": "display_data"
    }
   ],
   "source": [
    "# plot confusion matrix in seaborn heatmap\n",
    "cm = confusion_matrix(y_test, y_pred)\n",
    "plt.figure(figsize=(7,7))\n",
    "sns.heatmap(cm, annot=True, fmt='.0f', linewidth=1, linecolor='black', square = True, cmap = 'Blues_r');\n",
    "plt.ylabel('Actual');\n",
    "plt.xlabel('Predicted');\n",
    "all_sample_title = 'Recall Score: {0}'.format(logreg_recall)\n",
    "plt.title(all_sample_title);"
   ]
  },
  {
   "cell_type": "code",
   "execution_count": 13,
   "metadata": {
    "scrolled": true
   },
   "outputs": [
    {
     "data": {
      "image/png": "[encoded data removed]",
      "text/plain": [
       "<Figure size 432x288 with 1 Axes>"
      ]
     },
     "metadata": {
      "needs_background": "light"
     },
     "output_type": "display_data"
    },
    {
     "name": "stdout",
     "output_type": "stream",
     "text": [
      "ROC_AUC:  0.9198229493500673\n"
     ]
    }
   ],
   "source": [
    "# Compute predicted probabilities: y_pred_prob\n",
    "y_pred_prob = logreg.predict_proba(X_test)[:,1]\n",
    "\n",
    "# Generate ROC curve values: fpr, tpr, thresholds\n",
    "fpr, tpr, thresholds = roc_curve(y_test, y_pred_prob)\n",
    "roc_auc = auc(fpr, tpr)\n",
    "\n",
    "# Plot ROC curve\n",
    "plt.plot([0, 1], [0, 1], 'k--')\n",
    "plt.plot(fpr, tpr, 'b', label = 'AUC = %0.2f' % roc_auc)\n",
    "plt.xlabel('False Positive Rate')\n",
    "plt.ylabel('True Positive Rate')\n",
    "plt.title('ROC Curve')\n",
    "plt.show()\n",
    "print('ROC_AUC: ', roc_auc)"
   ]
  },
  {
   "cell_type": "code",
   "execution_count": 14,
   "metadata": {},
   "outputs": [
    {
     "data": {
      "image/png": "[encoded data removed]",
      "text/plain": [
       "<Figure size 432x288 with 1 Axes>"
      ]
     },
     "metadata": {
      "needs_background": "light"
     },
     "output_type": "display_data"
    }
   ],
   "source": [
    "# plot precision/recall curve \n",
    "precision, recall, thresholds = precision_recall_curve(y_test, y_pred_prob)\n",
    "plt.plot(recall, precision, marker='.', label='Logreg')\n",
    "plt.title('Precision/Recall Curve for Logistic Regression')\n",
    "plt.xlabel('Recall')\n",
    "plt.ylabel('Precision')\n",
    "plt.legend()\n",
    "plt.show()"
   ]
  },
  {
   "cell_type": "code",
   "execution_count": 15,
   "metadata": {
    "scrolled": true
   },
   "outputs": [
    {
     "data": {
      "text/plain": [
       "0.7995114948579003"
      ]
     },
     "execution_count": 15,
     "metadata": {},
     "output_type": "execute_result"
    }
   ],
   "source": [
    "# calculate f-beta score\n",
    "fbeta = fbeta_score(y_test, y_pred, average='weighted', beta=2)\n",
    "fbeta"
   ]
  },
  {
   "cell_type": "code",
   "execution_count": 16,
   "metadata": {},
   "outputs": [],
   "source": [
    "# bootstrapping\n",
    "\n",
    "n_iters = 100\n",
    "recall = []\n",
    "precision = []\n",
    "\n",
    "for i in range(n_iters):\n",
    "    \n",
    "    # split data into training and test set, instantiate RFC model\n",
    "    X_train_b, X_test_b, y_train_b, y_test_b = train_test_split(X, y, test_size=0.5, random_state=i)\n",
    "    logreg_cv = LogisticRegression(max_iter=1000)\n",
    "    logreg_cv = GridSearchCV(logreg_cv, param_grid, scoring='roc_auc', cv=5)\n",
    "    logreg_cv.fit(X_train, y_train)\n",
    "    model = LogisticRegression(**logreg_cv.best_params_)\n",
    "    \n",
    "    # fit and predict\n",
    "    model.fit(X_train_b, y_train_b)\n",
    "    thresh_b = threshold(model, X_test_b, y_test_b)\n",
    "    y_pred_b = np.where(model.predict_proba(X_test_b)[:,1] > thresh_b, 1, 0)\n",
    "    \n",
    "    # calculate precision, recall\n",
    "    score_recall = recall_score(y_test_b, y_pred_b)\n",
    "    score_precision = precision_score(y_test_b, y_pred_b)\n",
    "    \n",
    "    # append scores to lists\n",
    "    recall.append(score_recall)\n",
    "    precision.append(score_precision)"
   ]
  },
  {
   "cell_type": "code",
   "execution_count": 17,
   "metadata": {},
   "outputs": [
    {
     "name": "stdout",
     "output_type": "stream",
     "text": [
      "95.0 confidence interval Recall: 70.2% and 93.4%\n",
      "95.0 confidence interval Precision: 50.3% and 52.2%\n"
     ]
    }
   ],
   "source": [
    "# get confidence intervals for precision and recall\n",
    "\n",
    "alpha = 0.95\n",
    "p_low = 2.5\n",
    "p_high = 97.5\n",
    "\n",
    "lower_recall = max(0.0, np.percentile(recall, 2.5))\n",
    "upper_recall = min(1.0, np.percentile(recall, 97.5))\n",
    "lower_precision = max(0.0, np.percentile(precision, 2.5))\n",
    "upper_precision = min(1.0, np.percentile(precision, 97.5))\n",
    "\n",
    "print('%.1f confidence interval Recall: %.1f%% and %.1f%%' % (95, lower_recall*100, upper_recall*100))\n",
    "print('%.1f confidence interval Precision: %.1f%% and %.1f%%' % (95, lower_precision*100, upper_precision*100))"
   ]
  },
  {
   "cell_type": "markdown",
   "metadata": {},
   "source": [
    "# K-Nearest Neighbors <a class=\"anchor\" id=\"chapter3\"></a>"
   ]
  },
  {
   "cell_type": "markdown",
   "metadata": {},
   "source": [
    "The next model I want to use is K_Nearest Neighbors. I first need to use cross-validation to find the optimal number of neighbors."
   ]
  },
  {
   "cell_type": "code",
   "execution_count": 18,
   "metadata": {},
   "outputs": [
    {
     "name": "stdout",
     "output_type": "stream",
     "text": [
      "n_neighbors:  22\n",
      "0.8904892787524366\n"
     ]
    }
   ],
   "source": [
    "# use GridSearchCV to find best value of C\n",
    "knn_cv = KNeighborsClassifier()\n",
    "param_grid = {'n_neighbors': np.arange(1, 25)}\n",
    "knn_gscv = GridSearchCV(knn_cv, param_grid, scoring='roc_auc', cv=5)\n",
    "knn_gscv.fit(X_train, y_train)\n",
    "n_neighbors = knn_gscv.best_index_ + 1\n",
    "\n",
    "print('n_neighbors: ', n_neighbors)\n",
    "print(knn_gscv.best_score_)"
   ]
  },
  {
   "cell_type": "code",
   "execution_count": 19,
   "metadata": {},
   "outputs": [
    {
     "name": "stdout",
     "output_type": "stream",
     "text": [
      "[0.91444444 0.81814815 0.92296296 0.86925926 0.92763158]\n",
      "Mean AUC Score:  0.8904892787524366\n",
      "0.19\n"
     ]
    }
   ],
   "source": [
    "# instantiate final KNN classifier, with optimal n_neighbors value\n",
    "knn = KNeighborsClassifier(n_neighbors=n_neighbors)\n",
    "knn.fit(X_train, y_train)\n",
    "thresh = threshold(knn, X_test, y_test)\n",
    "y_pred = np.where(knn.predict_proba(X_test)[:,1] > thresh, 1, 0)\n",
    "knn_recall = recall_score(y_test, y_pred)\n",
    "\n",
    "# use cross_val_score with scoring='roc_auc', to check variability\n",
    "knn_cv_score = cross_val_score(knn, X_train, y_train, cv=5, scoring='roc_auc')\n",
    "print(knn_cv_score)\n",
    "print(\"Mean AUC Score: \", knn_cv_score.mean())\n",
    "print(thresh)"
   ]
  },
  {
   "cell_type": "code",
   "execution_count": 20,
   "metadata": {},
   "outputs": [
    {
     "name": "stdout",
     "output_type": "stream",
     "text": [
      "Classification Report\n",
      "-----------------------------------------------------\n",
      "              precision    recall  f1-score   support\n",
      "\n",
      "           0       0.96      0.79      0.87       368\n",
      "           1       0.52      0.88      0.66        97\n",
      "\n",
      "    accuracy                           0.81       465\n",
      "   macro avg       0.74      0.83      0.76       465\n",
      "weighted avg       0.87      0.81      0.82       465\n",
      "\n"
     ]
    }
   ],
   "source": [
    "# print classification report\n",
    "print('Classification Report')\n",
    "print('-----------------------------------------------------')\n",
    "print(classification_report(y_test, y_pred))"
   ]
  },
  {
   "cell_type": "code",
   "execution_count": 21,
   "metadata": {},
   "outputs": [
    {
     "data": {
      "image/png": "[encoded data removed]",
      "text/plain": [
       "<Figure size 504x504 with 2 Axes>"
      ]
     },
     "metadata": {
      "needs_background": "light"
     },
     "output_type": "display_data"
    }
   ],
   "source": [
    "# plot confusion matrix in seaborn heatmap\n",
    "cm_knn = confusion_matrix(y_test, y_pred)\n",
    "plt.figure(figsize=(7,7))\n",
    "sns.heatmap(cm_knn, annot=True, fmt='.0f', linewidth=1, linecolor='black', square = True, cmap = 'Blues_r');\n",
    "plt.ylabel('Actual');\n",
    "plt.xlabel('Predicted');\n",
    "all_sample_title = 'Recall Score: {0}'.format(knn_recall)\n",
    "plt.title(all_sample_title);"
   ]
  },
  {
   "cell_type": "code",
   "execution_count": 22,
   "metadata": {},
   "outputs": [
    {
     "data": {
      "image/png": "[encoded data removed]",
      "text/plain": [
       "<Figure size 432x288 with 1 Axes>"
      ]
     },
     "metadata": {
      "needs_background": "light"
     },
     "output_type": "display_data"
    },
    {
     "name": "stdout",
     "output_type": "stream",
     "text": [
      "ROC_AUC:  0.9115727252353205\n"
     ]
    }
   ],
   "source": [
    "# Compute predicted probabilities: y_pred_prob\n",
    "y_pred_prob = knn.predict_proba(X_test)[:,1]\n",
    "\n",
    "# Generate ROC curve values: fpr, tpr, thresholds\n",
    "fpr, tpr, thresholds = roc_curve(y_test, y_pred_prob)\n",
    "roc_auc = auc(fpr, tpr)\n",
    "\n",
    "# Plot ROC curve\n",
    "plt.plot([0, 1], [0, 1], 'k--')\n",
    "plt.plot(fpr, tpr, 'b', label = 'AUC = %0.2f' % roc_auc)\n",
    "plt.xlabel('False Positive Rate')\n",
    "plt.ylabel('True Positive Rate')\n",
    "plt.title('ROC Curve')\n",
    "plt.show()\n",
    "print('ROC_AUC: ', roc_auc)"
   ]
  },
  {
   "cell_type": "code",
   "execution_count": 23,
   "metadata": {},
   "outputs": [
    {
     "data": {
      "image/png": "[encoded data removed]",
      "text/plain": [
       "<Figure size 432x288 with 1 Axes>"
      ]
     },
     "metadata": {
      "needs_background": "light"
     },
     "output_type": "display_data"
    }
   ],
   "source": [
    "# plot precision/recall curve \n",
    "precision, recall, thresholds = precision_recall_curve(y_test, y_pred_prob)\n",
    "plt.plot(recall, precision, marker='.', label='KNN')\n",
    "plt.title('Precision/Recall Curve for KNN')\n",
    "plt.xlabel('Recall')\n",
    "plt.ylabel('Precision')\n",
    "plt.legend()\n",
    "plt.show()"
   ]
  },
  {
   "cell_type": "code",
   "execution_count": 24,
   "metadata": {},
   "outputs": [
    {
     "data": {
      "text/plain": [
       "0.8099158784574504"
      ]
     },
     "execution_count": 24,
     "metadata": {},
     "output_type": "execute_result"
    }
   ],
   "source": [
    "# calculate f_beta score\n",
    "fbeta = fbeta_score(y_test, y_pred, average='weighted', beta=2)\n",
    "fbeta"
   ]
  },
  {
   "cell_type": "code",
   "execution_count": 25,
   "metadata": {},
   "outputs": [],
   "source": [
    "# bootstrapping\n",
    "\n",
    "n_iters = 100\n",
    "recall = []\n",
    "precision = []\n",
    "\n",
    "for i in range(n_iters):\n",
    "    \n",
    "    # split data into training and test set, instantiate RFC model\n",
    "    X_train_b, X_test_b, y_train_b, y_test_b = train_test_split(X, y, test_size=0.5, random_state=i)\n",
    "    knn_cv = KNeighborsClassifier()\n",
    "    param_grid = {'n_neighbors': np.arange(1, 25)}\n",
    "    knn_gscv = GridSearchCV(knn_cv, param_grid, scoring='roc_auc', cv=5)\n",
    "    knn_gscv.fit(X_train, y_train)\n",
    "    n_neighbors = knn_gscv.best_index_ + 1\n",
    "    model = KNeighborsClassifier(n_neighbors=n_neighbors)\n",
    "    \n",
    "    # fit and predict\n",
    "    model.fit(X_train_b, y_train_b)\n",
    "    thresh_b = threshold(model, X_test_b, y_test_b)\n",
    "    y_pred_b = np.where(model.predict_proba(X_test_b)[:,1] > thresh_b, 1, 0)\n",
    "    \n",
    "    # calculate precision, recall\n",
    "    score_recall = recall_score(y_test_b, y_pred_b)\n",
    "    score_precision = precision_score(y_test_b, y_pred_b)\n",
    "    \n",
    "    # append scores to lists\n",
    "    recall.append(score_recall)\n",
    "    precision.append(score_precision)"
   ]
  },
  {
   "cell_type": "code",
   "execution_count": 26,
   "metadata": {},
   "outputs": [
    {
     "name": "stdout",
     "output_type": "stream",
     "text": [
      "95.0 confidence interval Recall: 69.8% and 90.8%\n",
      "95.0 confidence interval Precision: 50.3% and 55.9%\n"
     ]
    }
   ],
   "source": [
    "# get confidence intervals for precision and recall\n",
    "\n",
    "alpha = 0.95\n",
    "p_low = 2.5 \n",
    "p_high = 97.5 \n",
    "\n",
    "lower_recall = max(0.0, np.percentile(recall, 2.5))\n",
    "upper_recall = min(1.0, np.percentile(recall, 97.5))\n",
    "lower_precision = max(0.0, np.percentile(precision, 2.5))\n",
    "upper_precision = min(1.0, np.percentile(precision, 97.5))\n",
    "\n",
    "print('%.1f confidence interval Recall: %.1f%% and %.1f%%' % (95, lower_recall*100, upper_recall*100))\n",
    "print('%.1f confidence interval Precision: %.1f%% and %.1f%%' % (95, lower_precision*100, upper_precision*100))"
   ]
  },
  {
   "cell_type": "markdown",
   "metadata": {},
   "source": [
    "# Random Forest <a class=\"anchor\" id=\"chapter4\"></a>"
   ]
  },
  {
   "cell_type": "markdown",
   "metadata": {},
   "source": [
    "Need to do GridSearchCV on RF Classifier like above 2 models"
   ]
  },
  {
   "cell_type": "code",
   "execution_count": 27,
   "metadata": {},
   "outputs": [
    {
     "data": {
      "text/plain": [
       "GridSearchCV(cv=5, estimator=RandomForestClassifier(random_state=42),\n",
       "             param_grid={'criterion': ['gini', 'entropy'],\n",
       "                         'max_depth': [3, 4, 5, 6, 7, 8],\n",
       "                         'max_features': ['auto', 'sqrt', 'log2'],\n",
       "                         'n_estimators': [100, 500]},\n",
       "             scoring='roc_auc')"
      ]
     },
     "execution_count": 27,
     "metadata": {},
     "output_type": "execute_result"
    }
   ],
   "source": [
    "# instantiate RFC model, set up param_grid\n",
    "rfc = RandomForestClassifier(random_state=42)\n",
    "param_grid = {\n",
    "    'n_estimators': [100,500],\n",
    "    'max_features': ['auto', 'sqrt', 'log2'],\n",
    "    'max_depth': [3,4,5,6,7,8],\n",
    "    'criterion': ['gini', 'entropy']\n",
    "}\n",
    "\n",
    "# GridSearch to find best parameters \n",
    "rfc_cv = GridSearchCV(estimator=rfc, param_grid=param_grid, scoring='roc_auc', cv=5)\n",
    "rfc_cv.fit(X_train, y_train)"
   ]
  },
  {
   "cell_type": "code",
   "execution_count": 28,
   "metadata": {},
   "outputs": [
    {
     "data": {
      "text/plain": [
       "{'criterion': 'entropy',\n",
       " 'max_depth': 6,\n",
       " 'max_features': 'auto',\n",
       " 'n_estimators': 100}"
      ]
     },
     "execution_count": 28,
     "metadata": {},
     "output_type": "execute_result"
    }
   ],
   "source": [
    "rfc_cv.best_params_"
   ]
  },
  {
   "cell_type": "code",
   "execution_count": 29,
   "metadata": {
    "scrolled": true
   },
   "outputs": [
    {
     "name": "stdout",
     "output_type": "stream",
     "text": [
      "[0.93407407 0.85037037 0.94074074 0.90518519 0.95123839]\n",
      "Mean AUC Score:  0.91632175209265\n",
      "0.18\n"
     ]
    }
   ],
   "source": [
    "# instantiate another RFC with optimal parameters, fit, predict, and calculate recall\n",
    "rfc_best = RandomForestClassifier(random_state=42, max_features='auto', n_estimators=100, max_depth=6, criterion='entropy')\n",
    "rfc_best.fit(X_train, y_train)\n",
    "thresh = threshold(rfc_best, X_test, y_test)\n",
    "y_pred = np.where(rfc_best.predict_proba(X_test)[:,1] > thresh, 1, 0)\n",
    "rfc_recall = recall_score(y_test, y_pred)\n",
    "\n",
    "# use cross_val_score with scoring='roc_auc', to check variability\n",
    "rfc_cv_score = cross_val_score(rfc_best, X_train, y_train, cv=5, scoring='roc_auc')\n",
    "print(rfc_cv_score)\n",
    "print(\"Mean AUC Score: \", rfc_cv_score.mean())\n",
    "print(thresh)"
   ]
  },
  {
   "cell_type": "code",
   "execution_count": 30,
   "metadata": {
    "scrolled": true
   },
   "outputs": [
    {
     "name": "stdout",
     "output_type": "stream",
     "text": [
      "Classification Report\n",
      "-----------------------------------------------------\n",
      "              precision    recall  f1-score   support\n",
      "\n",
      "           0       0.98      0.75      0.85       368\n",
      "           1       0.50      0.95      0.66        97\n",
      "\n",
      "    accuracy                           0.79       465\n",
      "   macro avg       0.74      0.85      0.75       465\n",
      "weighted avg       0.88      0.79      0.81       465\n",
      "\n"
     ]
    }
   ],
   "source": [
    "# print classification report\n",
    "print('Classification Report')\n",
    "print('-----------------------------------------------------')\n",
    "print(classification_report(y_test, y_pred))"
   ]
  },
  {
   "cell_type": "code",
   "execution_count": 31,
   "metadata": {},
   "outputs": [
    {
     "data": {
      "image/png": "[encoded data removed]",
      "text/plain": [
       "<Figure size 504x504 with 2 Axes>"
      ]
     },
     "metadata": {
      "needs_background": "light"
     },
     "output_type": "display_data"
    }
   ],
   "source": [
    "# plot confusion matrix in seaborn heatmap\n",
    "cm_rfc = confusion_matrix(y_test, y_pred)\n",
    "plt.figure(figsize=(7,7))\n",
    "sns.heatmap(cm_rfc, annot=True, fmt='.0f', linewidth=1, linecolor='black', square = True, cmap = 'Blues_r');\n",
    "plt.ylabel('Actual');\n",
    "plt.xlabel('Predicted');\n",
    "all_sample_title = 'Recall Score: {0}'.format(rfc_recall)\n",
    "plt.title(all_sample_title);"
   ]
  },
  {
   "cell_type": "code",
   "execution_count": 32,
   "metadata": {
    "scrolled": true
   },
   "outputs": [
    {
     "data": {
      "image/png": "[encoded data removed]",
      "text/plain": [
       "<Figure size 432x288 with 1 Axes>"
      ]
     },
     "metadata": {
      "needs_background": "light"
     },
     "output_type": "display_data"
    },
    {
     "name": "stdout",
     "output_type": "stream",
     "text": [
      "ROC_AUC:  0.9412539220080682\n"
     ]
    }
   ],
   "source": [
    "# Compute predicted probabilities: y_pred_prob\n",
    "y_pred_prob = rfc_best.predict_proba(X_test)[:,1]\n",
    "\n",
    "# Generate ROC curve values: fpr, tpr, thresholds\n",
    "fpr, tpr, thresholds = roc_curve(y_test, y_pred_prob)\n",
    "roc_auc = auc(fpr, tpr)\n",
    "\n",
    "# Plot ROC curve\n",
    "plt.plot([0, 1], [0, 1], 'k--')\n",
    "plt.plot(fpr, tpr, 'b', label = 'AUC = %0.2f' % roc_auc)\n",
    "plt.xlabel('False Positive Rate')\n",
    "plt.ylabel('True Positive Rate')\n",
    "plt.title('ROC Curve')\n",
    "plt.show()\n",
    "print('ROC_AUC: ', roc_auc)"
   ]
  },
  {
   "cell_type": "code",
   "execution_count": 33,
   "metadata": {},
   "outputs": [
    {
     "data": {
      "image/png": "[encoded data removed]",
      "text/plain": [
       "<Figure size 432x288 with 1 Axes>"
      ]
     },
     "metadata": {
      "needs_background": "light"
     },
     "output_type": "display_data"
    }
   ],
   "source": [
    "# plot precision/recall curve \n",
    "precision, recall, thresholds = precision_recall_curve(y_test, y_pred_prob)\n",
    "plt.plot(recall, precision, marker='.', label='RFC')\n",
    "plt.title('Precision/Recall Curve for RFC')\n",
    "plt.xlabel('Recall')\n",
    "plt.ylabel('Precision')\n",
    "plt.legend()\n",
    "plt.show()"
   ]
  },
  {
   "cell_type": "code",
   "execution_count": 34,
   "metadata": {},
   "outputs": [
    {
     "data": {
      "text/plain": [
       "0.7929572809503771"
      ]
     },
     "execution_count": 34,
     "metadata": {},
     "output_type": "execute_result"
    }
   ],
   "source": [
    "# calculate f-beta score\n",
    "fbeta = fbeta_score(y_test, y_pred, average='weighted', beta=2)\n",
    "fbeta"
   ]
  },
  {
   "cell_type": "code",
   "execution_count": 35,
   "metadata": {
    "scrolled": true
   },
   "outputs": [],
   "source": [
    "# bootstrapping\n",
    "\n",
    "n_iters = 10\n",
    "recall = []\n",
    "precision = []\n",
    "\n",
    "for i in range(n_iters):\n",
    "    \n",
    "    # split data into training and test set, instantiate RFC model\n",
    "    X_train_b, X_test_b, y_train_b, y_test_b = train_test_split(X, y, test_size=0.5)\n",
    "    model = RandomForestClassifier(random_state=i, max_features='auto', n_estimators=100, \\\n",
    "                                   max_depth=6, criterion='entropy')\n",
    "    # fit and predict\n",
    "    model.fit(X_train_b, y_train_b)\n",
    "    thresh_b = threshold(model, X_test_b, y_test_b)\n",
    "    y_pred_b = np.where(model.predict_proba(X_test_b)[:,1] > thresh_b, 1, 0)\n",
    "    \n",
    "    # calculate precision, recall\n",
    "    score_recall = recall_score(y_test_b, y_pred_b)\n",
    "    score_precision = precision_score(y_test_b, y_pred_b)\n",
    "    \n",
    "    # append scores to lists\n",
    "    recall.append(score_recall)\n",
    "    precision.append(score_precision)"
   ]
  },
  {
   "cell_type": "code",
   "execution_count": 36,
   "metadata": {},
   "outputs": [
    {
     "name": "stdout",
     "output_type": "stream",
     "text": [
      "95.0 confidence interval Recall: 80.9% and 91.2%\n",
      "95.0 confidence interval Precision: 50.4% and 52.7%\n"
     ]
    }
   ],
   "source": [
    "# get confidence intervals for precision and recall\n",
    "\n",
    "alpha = 0.95\n",
    "p_low = 2.5\n",
    "p_high = 97.5\n",
    "\n",
    "lower_recall = max(0.0, np.percentile(recall, 2.5))\n",
    "upper_recall = min(1.0, np.percentile(recall, 97.5))\n",
    "lower_precision = max(0.0, np.percentile(precision, 2.5))\n",
    "upper_precision = min(1.0, np.percentile(precision, 97.5))\n",
    "\n",
    "print('%.1f confidence interval Recall: %.1f%% and %.1f%%' % (95, lower_recall*100, upper_recall*100))\n",
    "print('%.1f confidence interval Precision: %.1f%% and %.1f%%' % (95, lower_precision*100, upper_precision*100))"
   ]
  },
  {
   "cell_type": "markdown",
   "metadata": {},
   "source": [
    "Source for confidence intervals: https://machinelearningmastery.com/calculate-bootstrap-confidence-intervals-machine-learning-results-python/"
   ]
  },
  {
   "cell_type": "markdown",
   "metadata": {},
   "source": [
    "## Misclassification Analysis <a class=\"anchor\" id=\"chapter4.1\"></a>"
   ]
  },
  {
   "cell_type": "markdown",
   "metadata": {},
   "source": [
    "Now let's look at the 5 events where a tornado occurred but none was predicted."
   ]
  },
  {
   "cell_type": "code",
   "execution_count": 37,
   "metadata": {
    "scrolled": false
   },
   "outputs": [
    {
     "data": {
      "text/html": [
       "<div>\n",
       "<style scoped>\n",
       "    .dataframe tbody tr th:only-of-type {\n",
       "        vertical-align: middle;\n",
       "    }\n",
       "\n",
       "    .dataframe tbody tr th {\n",
       "        vertical-align: top;\n",
       "    }\n",
       "\n",
       "    .dataframe thead th {\n",
       "        text-align: right;\n",
       "    }\n",
       "</style>\n",
       "<table border=\"1\" class=\"dataframe\">\n",
       "  <thead>\n",
       "    <tr style=\"text-align: right;\">\n",
       "      <th></th>\n",
       "      <th>LATITUDE</th>\n",
       "      <th>ELEVATION</th>\n",
       "      <th>GUST</th>\n",
       "      <th>SLP</th>\n",
       "      <th>VISIB</th>\n",
       "      <th>WDSP</th>\n",
       "      <th>APRIL</th>\n",
       "      <th>JULY</th>\n",
       "      <th>Y_PRED</th>\n",
       "      <th>Y_PRED_PROB</th>\n",
       "      <th>TORNADO</th>\n",
       "    </tr>\n",
       "  </thead>\n",
       "  <tbody>\n",
       "    <tr>\n",
       "      <th>745</th>\n",
       "      <td>-0.523503</td>\n",
       "      <td>0.959416</td>\n",
       "      <td>0.000000</td>\n",
       "      <td>0.066667</td>\n",
       "      <td>-0.416667</td>\n",
       "      <td>0.025</td>\n",
       "      <td>0</td>\n",
       "      <td>0</td>\n",
       "      <td>0</td>\n",
       "      <td>0.141597</td>\n",
       "      <td>1</td>\n",
       "    </tr>\n",
       "    <tr>\n",
       "      <th>791</th>\n",
       "      <td>0.000000</td>\n",
       "      <td>0.370130</td>\n",
       "      <td>0.112360</td>\n",
       "      <td>0.316667</td>\n",
       "      <td>-1.000000</td>\n",
       "      <td>0.000</td>\n",
       "      <td>0</td>\n",
       "      <td>0</td>\n",
       "      <td>0</td>\n",
       "      <td>0.177877</td>\n",
       "      <td>1</td>\n",
       "    </tr>\n",
       "    <tr>\n",
       "      <th>747</th>\n",
       "      <td>-0.523503</td>\n",
       "      <td>0.959416</td>\n",
       "      <td>-0.224719</td>\n",
       "      <td>0.300000</td>\n",
       "      <td>-2.666667</td>\n",
       "      <td>-0.700</td>\n",
       "      <td>0</td>\n",
       "      <td>0</td>\n",
       "      <td>0</td>\n",
       "      <td>0.092251</td>\n",
       "      <td>1</td>\n",
       "    </tr>\n",
       "    <tr>\n",
       "      <th>812</th>\n",
       "      <td>0.521595</td>\n",
       "      <td>-0.451299</td>\n",
       "      <td>-0.674157</td>\n",
       "      <td>0.350000</td>\n",
       "      <td>-1.750000</td>\n",
       "      <td>-0.800</td>\n",
       "      <td>1</td>\n",
       "      <td>0</td>\n",
       "      <td>0</td>\n",
       "      <td>0.023619</td>\n",
       "      <td>1</td>\n",
       "    </tr>\n",
       "    <tr>\n",
       "      <th>776</th>\n",
       "      <td>0.527866</td>\n",
       "      <td>-0.426948</td>\n",
       "      <td>0.112360</td>\n",
       "      <td>-0.200000</td>\n",
       "      <td>0.166667</td>\n",
       "      <td>0.800</td>\n",
       "      <td>0</td>\n",
       "      <td>0</td>\n",
       "      <td>0</td>\n",
       "      <td>0.175056</td>\n",
       "      <td>1</td>\n",
       "    </tr>\n",
       "  </tbody>\n",
       "</table>\n",
       "</div>"
      ],
      "text/plain": [
       "     LATITUDE  ELEVATION      GUST       SLP     VISIB   WDSP  APRIL  JULY  \\\n",
       "745 -0.523503   0.959416  0.000000  0.066667 -0.416667  0.025      0     0   \n",
       "791  0.000000   0.370130  0.112360  0.316667 -1.000000  0.000      0     0   \n",
       "747 -0.523503   0.959416 -0.224719  0.300000 -2.666667 -0.700      0     0   \n",
       "812  0.521595  -0.451299 -0.674157  0.350000 -1.750000 -0.800      1     0   \n",
       "776  0.527866  -0.426948  0.112360 -0.200000  0.166667  0.800      0     0   \n",
       "\n",
       "     Y_PRED  Y_PRED_PROB  TORNADO  \n",
       "745       0     0.141597        1  \n",
       "791       0     0.177877        1  \n",
       "747       0     0.092251        1  \n",
       "812       0     0.023619        1  \n",
       "776       0     0.175056        1  "
      ]
     },
     "execution_count": 37,
     "metadata": {},
     "output_type": "execute_result"
    }
   ],
   "source": [
    "# add y_pred, y_pred_prob, tornado to X_test and look at misclassifications\n",
    "X_test['Y_PRED'] = y_pred\n",
    "X_test['Y_PRED_PROB'] = y_pred_prob\n",
    "X_test['TORNADO'] = y_test\n",
    "X_test.loc[(X_test['TORNADO'] == 1) & (X_test['Y_PRED'] == 0)]"
   ]
  },
  {
   "cell_type": "code",
   "execution_count": 38,
   "metadata": {},
   "outputs": [
    {
     "data": {
      "text/html": [
       "<div>\n",
       "<style scoped>\n",
       "    .dataframe tbody tr th:only-of-type {\n",
       "        vertical-align: middle;\n",
       "    }\n",
       "\n",
       "    .dataframe tbody tr th {\n",
       "        vertical-align: top;\n",
       "    }\n",
       "\n",
       "    .dataframe thead th {\n",
       "        text-align: right;\n",
       "    }\n",
       "</style>\n",
       "<table border=\"1\" class=\"dataframe\">\n",
       "  <thead>\n",
       "    <tr style=\"text-align: right;\">\n",
       "      <th></th>\n",
       "      <th>LATITUDE</th>\n",
       "      <th>LONGITUDE</th>\n",
       "      <th>ELEVATION</th>\n",
       "      <th>DEWP</th>\n",
       "      <th>GUST</th>\n",
       "      <th>MAX</th>\n",
       "      <th>MIN</th>\n",
       "      <th>MXSPD</th>\n",
       "      <th>PRCP</th>\n",
       "      <th>SLP</th>\n",
       "      <th>STP</th>\n",
       "      <th>TEMP</th>\n",
       "      <th>VISIB</th>\n",
       "      <th>WDSP</th>\n",
       "      <th>TORNADO</th>\n",
       "      <th>APRIL</th>\n",
       "      <th>JULY</th>\n",
       "    </tr>\n",
       "  </thead>\n",
       "  <tbody>\n",
       "    <tr>\n",
       "      <th>745</th>\n",
       "      <td>31.1827</td>\n",
       "      <td>-90.47080</td>\n",
       "      <td>125.9</td>\n",
       "      <td>53.0</td>\n",
       "      <td>21.0</td>\n",
       "      <td>75.9</td>\n",
       "      <td>48.0</td>\n",
       "      <td>15.0</td>\n",
       "      <td>0.00</td>\n",
       "      <td>1016.4</td>\n",
       "      <td>1.0</td>\n",
       "      <td>59.2</td>\n",
       "      <td>9.1</td>\n",
       "      <td>6.4</td>\n",
       "      <td>1</td>\n",
       "      <td>0</td>\n",
       "      <td>0</td>\n",
       "    </tr>\n",
       "    <tr>\n",
       "      <th>747</th>\n",
       "      <td>31.1827</td>\n",
       "      <td>-90.47080</td>\n",
       "      <td>125.9</td>\n",
       "      <td>65.4</td>\n",
       "      <td>19.0</td>\n",
       "      <td>70.0</td>\n",
       "      <td>63.0</td>\n",
       "      <td>13.0</td>\n",
       "      <td>0.08</td>\n",
       "      <td>1017.8</td>\n",
       "      <td>2.4</td>\n",
       "      <td>66.5</td>\n",
       "      <td>6.4</td>\n",
       "      <td>3.5</td>\n",
       "      <td>1</td>\n",
       "      <td>0</td>\n",
       "      <td>0</td>\n",
       "    </tr>\n",
       "    <tr>\n",
       "      <th>776</th>\n",
       "      <td>33.4963</td>\n",
       "      <td>-90.08660</td>\n",
       "      <td>40.5</td>\n",
       "      <td>62.6</td>\n",
       "      <td>22.0</td>\n",
       "      <td>73.0</td>\n",
       "      <td>64.0</td>\n",
       "      <td>15.0</td>\n",
       "      <td>0.00</td>\n",
       "      <td>1014.8</td>\n",
       "      <td>10.1</td>\n",
       "      <td>68.2</td>\n",
       "      <td>9.8</td>\n",
       "      <td>9.5</td>\n",
       "      <td>1</td>\n",
       "      <td>0</td>\n",
       "      <td>0</td>\n",
       "    </tr>\n",
       "    <tr>\n",
       "      <th>791</th>\n",
       "      <td>32.3347</td>\n",
       "      <td>-88.74420</td>\n",
       "      <td>89.6</td>\n",
       "      <td>48.7</td>\n",
       "      <td>22.0</td>\n",
       "      <td>63.0</td>\n",
       "      <td>34.0</td>\n",
       "      <td>15.0</td>\n",
       "      <td>0.00</td>\n",
       "      <td>1017.9</td>\n",
       "      <td>6.5</td>\n",
       "      <td>54.2</td>\n",
       "      <td>8.4</td>\n",
       "      <td>6.3</td>\n",
       "      <td>1</td>\n",
       "      <td>0</td>\n",
       "      <td>0</td>\n",
       "    </tr>\n",
       "    <tr>\n",
       "      <th>812</th>\n",
       "      <td>33.4825</td>\n",
       "      <td>-90.98528</td>\n",
       "      <td>39.0</td>\n",
       "      <td>64.6</td>\n",
       "      <td>15.0</td>\n",
       "      <td>80.1</td>\n",
       "      <td>62.1</td>\n",
       "      <td>8.9</td>\n",
       "      <td>0.04</td>\n",
       "      <td>1018.1</td>\n",
       "      <td>12.8</td>\n",
       "      <td>68.6</td>\n",
       "      <td>7.5</td>\n",
       "      <td>3.1</td>\n",
       "      <td>1</td>\n",
       "      <td>1</td>\n",
       "      <td>0</td>\n",
       "    </tr>\n",
       "  </tbody>\n",
       "</table>\n",
       "</div>"
      ],
      "text/plain": [
       "     LATITUDE  LONGITUDE  ELEVATION  DEWP  GUST   MAX   MIN  MXSPD  PRCP  \\\n",
       "745   31.1827  -90.47080      125.9  53.0  21.0  75.9  48.0   15.0  0.00   \n",
       "747   31.1827  -90.47080      125.9  65.4  19.0  70.0  63.0   13.0  0.08   \n",
       "776   33.4963  -90.08660       40.5  62.6  22.0  73.0  64.0   15.0  0.00   \n",
       "791   32.3347  -88.74420       89.6  48.7  22.0  63.0  34.0   15.0  0.00   \n",
       "812   33.4825  -90.98528       39.0  64.6  15.0  80.1  62.1    8.9  0.04   \n",
       "\n",
       "        SLP   STP  TEMP  VISIB  WDSP  TORNADO  APRIL  JULY  \n",
       "745  1016.4   1.0  59.2    9.1   6.4        1      0     0  \n",
       "747  1017.8   2.4  66.5    6.4   3.5        1      0     0  \n",
       "776  1014.8  10.1  68.2    9.8   9.5        1      0     0  \n",
       "791  1017.9   6.5  54.2    8.4   6.3        1      0     0  \n",
       "812  1018.1  12.8  68.6    7.5   3.1        1      1     0  "
      ]
     },
     "execution_count": 38,
     "metadata": {},
     "output_type": "execute_result"
    }
   ],
   "source": [
    "# look at unscaled weather data of rows where false negatives occurred\n",
    "tornado = pd.read_csv('/Users/gregoryolson/Documents/Data Science CT/Capstone/Capstone_Tornado/Data/tornado_downsized.csv')\n",
    "tornado.iloc[[745, 747, 776, 791, 812]]"
   ]
  },
  {
   "cell_type": "code",
   "execution_count": 39,
   "metadata": {},
   "outputs": [
    {
     "data": {
      "text/html": [
       "<div>\n",
       "<style scoped>\n",
       "    .dataframe tbody tr th:only-of-type {\n",
       "        vertical-align: middle;\n",
       "    }\n",
       "\n",
       "    .dataframe tbody tr th {\n",
       "        vertical-align: top;\n",
       "    }\n",
       "\n",
       "    .dataframe thead th {\n",
       "        text-align: right;\n",
       "    }\n",
       "</style>\n",
       "<table border=\"1\" class=\"dataframe\">\n",
       "  <thead>\n",
       "    <tr style=\"text-align: right;\">\n",
       "      <th></th>\n",
       "      <th>LATITUDE</th>\n",
       "      <th>LONGITUDE</th>\n",
       "      <th>ELEVATION</th>\n",
       "      <th>DEWP</th>\n",
       "      <th>GUST</th>\n",
       "      <th>MAX</th>\n",
       "      <th>MIN</th>\n",
       "      <th>MXSPD</th>\n",
       "      <th>PRCP</th>\n",
       "      <th>SLP</th>\n",
       "      <th>STP</th>\n",
       "      <th>TEMP</th>\n",
       "      <th>VISIB</th>\n",
       "      <th>WDSP</th>\n",
       "      <th>APRIL</th>\n",
       "      <th>JULY</th>\n",
       "    </tr>\n",
       "    <tr>\n",
       "      <th>TORNADO</th>\n",
       "      <th></th>\n",
       "      <th></th>\n",
       "      <th></th>\n",
       "      <th></th>\n",
       "      <th></th>\n",
       "      <th></th>\n",
       "      <th></th>\n",
       "      <th></th>\n",
       "      <th></th>\n",
       "      <th></th>\n",
       "      <th></th>\n",
       "      <th></th>\n",
       "      <th></th>\n",
       "      <th></th>\n",
       "      <th></th>\n",
       "      <th></th>\n",
       "    </tr>\n",
       "  </thead>\n",
       "  <tbody>\n",
       "    <tr>\n",
       "      <th>0</th>\n",
       "      <td>32.295222</td>\n",
       "      <td>-89.459360</td>\n",
       "      <td>66.684677</td>\n",
       "      <td>55.595833</td>\n",
       "      <td>21.370296</td>\n",
       "      <td>77.179435</td>\n",
       "      <td>55.887366</td>\n",
       "      <td>14.289247</td>\n",
       "      <td>0.209624</td>\n",
       "      <td>1017.789382</td>\n",
       "      <td>9.670968</td>\n",
       "      <td>65.549731</td>\n",
       "      <td>9.296640</td>\n",
       "      <td>6.236828</td>\n",
       "      <td>0.102151</td>\n",
       "      <td>0.064516</td>\n",
       "    </tr>\n",
       "    <tr>\n",
       "      <th>1</th>\n",
       "      <td>32.029929</td>\n",
       "      <td>-89.472517</td>\n",
       "      <td>52.182796</td>\n",
       "      <td>63.112366</td>\n",
       "      <td>31.193011</td>\n",
       "      <td>77.460215</td>\n",
       "      <td>60.937634</td>\n",
       "      <td>20.922043</td>\n",
       "      <td>0.510753</td>\n",
       "      <td>1011.702151</td>\n",
       "      <td>5.337634</td>\n",
       "      <td>68.674731</td>\n",
       "      <td>8.514516</td>\n",
       "      <td>9.193011</td>\n",
       "      <td>0.322581</td>\n",
       "      <td>0.005376</td>\n",
       "    </tr>\n",
       "  </tbody>\n",
       "</table>\n",
       "</div>"
      ],
      "text/plain": [
       "          LATITUDE  LONGITUDE  ELEVATION       DEWP       GUST        MAX  \\\n",
       "TORNADO                                                                     \n",
       "0        32.295222 -89.459360  66.684677  55.595833  21.370296  77.179435   \n",
       "1        32.029929 -89.472517  52.182796  63.112366  31.193011  77.460215   \n",
       "\n",
       "               MIN      MXSPD      PRCP          SLP       STP       TEMP  \\\n",
       "TORNADO                                                                     \n",
       "0        55.887366  14.289247  0.209624  1017.789382  9.670968  65.549731   \n",
       "1        60.937634  20.922043  0.510753  1011.702151  5.337634  68.674731   \n",
       "\n",
       "            VISIB      WDSP     APRIL      JULY  \n",
       "TORNADO                                          \n",
       "0        9.296640  6.236828  0.102151  0.064516  \n",
       "1        8.514516  9.193011  0.322581  0.005376  "
      ]
     },
     "execution_count": 39,
     "metadata": {},
     "output_type": "execute_result"
    }
   ],
   "source": [
    "# look at means of features grouped by TORNADO\n",
    "tornado.groupby(by='TORNADO').mean()"
   ]
  },
  {
   "cell_type": "code",
   "execution_count": 40,
   "metadata": {
    "scrolled": true
   },
   "outputs": [
    {
     "data": {
      "text/html": [
       "<div>\n",
       "<style scoped>\n",
       "    .dataframe tbody tr th:only-of-type {\n",
       "        vertical-align: middle;\n",
       "    }\n",
       "\n",
       "    .dataframe tbody tr th {\n",
       "        vertical-align: top;\n",
       "    }\n",
       "\n",
       "    .dataframe thead th {\n",
       "        text-align: right;\n",
       "    }\n",
       "</style>\n",
       "<table border=\"1\" class=\"dataframe\">\n",
       "  <thead>\n",
       "    <tr style=\"text-align: right;\">\n",
       "      <th></th>\n",
       "      <th>LATITUDE</th>\n",
       "      <th>LONGITUDE</th>\n",
       "      <th>ELEVATION</th>\n",
       "      <th>DEWP</th>\n",
       "      <th>GUST</th>\n",
       "      <th>MAX</th>\n",
       "      <th>MIN</th>\n",
       "      <th>MXSPD</th>\n",
       "      <th>PRCP</th>\n",
       "      <th>SLP</th>\n",
       "      <th>STP</th>\n",
       "      <th>TEMP</th>\n",
       "      <th>VISIB</th>\n",
       "      <th>WDSP</th>\n",
       "      <th>TORNADO</th>\n",
       "      <th>APRIL</th>\n",
       "      <th>JULY</th>\n",
       "    </tr>\n",
       "  </thead>\n",
       "  <tbody>\n",
       "    <tr>\n",
       "      <th>count</th>\n",
       "      <td>930.000000</td>\n",
       "      <td>930.000000</td>\n",
       "      <td>930.000000</td>\n",
       "      <td>930.000000</td>\n",
       "      <td>930.000000</td>\n",
       "      <td>930.000000</td>\n",
       "      <td>930.000000</td>\n",
       "      <td>930.000000</td>\n",
       "      <td>930.000000</td>\n",
       "      <td>930.000000</td>\n",
       "      <td>930.000000</td>\n",
       "      <td>930.000000</td>\n",
       "      <td>930.000000</td>\n",
       "      <td>930.000000</td>\n",
       "      <td>930.000000</td>\n",
       "      <td>930.000000</td>\n",
       "      <td>930.000000</td>\n",
       "    </tr>\n",
       "    <tr>\n",
       "      <th>mean</th>\n",
       "      <td>32.242163</td>\n",
       "      <td>-89.461991</td>\n",
       "      <td>63.784301</td>\n",
       "      <td>57.099140</td>\n",
       "      <td>23.334839</td>\n",
       "      <td>77.235591</td>\n",
       "      <td>56.897419</td>\n",
       "      <td>15.615806</td>\n",
       "      <td>0.269849</td>\n",
       "      <td>1016.571935</td>\n",
       "      <td>8.804301</td>\n",
       "      <td>66.174731</td>\n",
       "      <td>9.140215</td>\n",
       "      <td>6.828065</td>\n",
       "      <td>0.200000</td>\n",
       "      <td>0.146237</td>\n",
       "      <td>0.052688</td>\n",
       "    </tr>\n",
       "    <tr>\n",
       "      <th>std</th>\n",
       "      <td>1.202079</td>\n",
       "      <td>0.846102</td>\n",
       "      <td>36.070360</td>\n",
       "      <td>14.784339</td>\n",
       "      <td>7.845519</td>\n",
       "      <td>13.151298</td>\n",
       "      <td>14.332322</td>\n",
       "      <td>5.435897</td>\n",
       "      <td>0.675066</td>\n",
       "      <td>5.234392</td>\n",
       "      <td>6.007048</td>\n",
       "      <td>13.122704</td>\n",
       "      <td>1.156484</td>\n",
       "      <td>3.093867</td>\n",
       "      <td>0.400215</td>\n",
       "      <td>0.353533</td>\n",
       "      <td>0.223530</td>\n",
       "    </tr>\n",
       "    <tr>\n",
       "      <th>min</th>\n",
       "      <td>30.411900</td>\n",
       "      <td>-91.283330</td>\n",
       "      <td>5.500000</td>\n",
       "      <td>0.900000</td>\n",
       "      <td>12.000000</td>\n",
       "      <td>28.000000</td>\n",
       "      <td>10.000000</td>\n",
       "      <td>6.000000</td>\n",
       "      <td>0.000000</td>\n",
       "      <td>1002.100000</td>\n",
       "      <td>0.000000</td>\n",
       "      <td>20.500000</td>\n",
       "      <td>1.100000</td>\n",
       "      <td>0.900000</td>\n",
       "      <td>0.000000</td>\n",
       "      <td>0.000000</td>\n",
       "      <td>0.000000</td>\n",
       "    </tr>\n",
       "    <tr>\n",
       "      <th>25%</th>\n",
       "      <td>31.281940</td>\n",
       "      <td>-90.086600</td>\n",
       "      <td>39.000000</td>\n",
       "      <td>48.800000</td>\n",
       "      <td>18.100000</td>\n",
       "      <td>70.000000</td>\n",
       "      <td>46.900000</td>\n",
       "      <td>12.000000</td>\n",
       "      <td>0.000000</td>\n",
       "      <td>1013.400000</td>\n",
       "      <td>4.025000</td>\n",
       "      <td>58.225000</td>\n",
       "      <td>8.800000</td>\n",
       "      <td>4.600000</td>\n",
       "      <td>0.000000</td>\n",
       "      <td>0.000000</td>\n",
       "      <td>0.000000</td>\n",
       "    </tr>\n",
       "    <tr>\n",
       "      <th>50%</th>\n",
       "      <td>32.334700</td>\n",
       "      <td>-89.253060</td>\n",
       "      <td>66.800000</td>\n",
       "      <td>61.200000</td>\n",
       "      <td>21.000000</td>\n",
       "      <td>79.000000</td>\n",
       "      <td>60.100000</td>\n",
       "      <td>14.000000</td>\n",
       "      <td>0.000000</td>\n",
       "      <td>1016.000000</td>\n",
       "      <td>7.800000</td>\n",
       "      <td>68.500000</td>\n",
       "      <td>9.600000</td>\n",
       "      <td>6.300000</td>\n",
       "      <td>0.000000</td>\n",
       "      <td>0.000000</td>\n",
       "      <td>0.000000</td>\n",
       "    </tr>\n",
       "    <tr>\n",
       "      <th>75%</th>\n",
       "      <td>33.482500</td>\n",
       "      <td>-88.623548</td>\n",
       "      <td>100.600000</td>\n",
       "      <td>68.700000</td>\n",
       "      <td>27.000000</td>\n",
       "      <td>87.100000</td>\n",
       "      <td>69.100000</td>\n",
       "      <td>18.100000</td>\n",
       "      <td>0.217500</td>\n",
       "      <td>1019.400000</td>\n",
       "      <td>12.800000</td>\n",
       "      <td>76.575000</td>\n",
       "      <td>10.000000</td>\n",
       "      <td>8.600000</td>\n",
       "      <td>0.000000</td>\n",
       "      <td>0.000000</td>\n",
       "      <td>0.000000</td>\n",
       "    </tr>\n",
       "    <tr>\n",
       "      <th>max</th>\n",
       "      <td>34.262200</td>\n",
       "      <td>-88.450000</td>\n",
       "      <td>125.900000</td>\n",
       "      <td>78.600000</td>\n",
       "      <td>62.000000</td>\n",
       "      <td>102.000000</td>\n",
       "      <td>80.100000</td>\n",
       "      <td>39.000000</td>\n",
       "      <td>7.190000</td>\n",
       "      <td>1040.200000</td>\n",
       "      <td>34.000000</td>\n",
       "      <td>88.000000</td>\n",
       "      <td>10.000000</td>\n",
       "      <td>21.200000</td>\n",
       "      <td>1.000000</td>\n",
       "      <td>1.000000</td>\n",
       "      <td>1.000000</td>\n",
       "    </tr>\n",
       "  </tbody>\n",
       "</table>\n",
       "</div>"
      ],
      "text/plain": [
       "         LATITUDE   LONGITUDE   ELEVATION        DEWP        GUST         MAX  \\\n",
       "count  930.000000  930.000000  930.000000  930.000000  930.000000  930.000000   \n",
       "mean    32.242163  -89.461991   63.784301   57.099140   23.334839   77.235591   \n",
       "std      1.202079    0.846102   36.070360   14.784339    7.845519   13.151298   \n",
       "min     30.411900  -91.283330    5.500000    0.900000   12.000000   28.000000   \n",
       "25%     31.281940  -90.086600   39.000000   48.800000   18.100000   70.000000   \n",
       "50%     32.334700  -89.253060   66.800000   61.200000   21.000000   79.000000   \n",
       "75%     33.482500  -88.623548  100.600000   68.700000   27.000000   87.100000   \n",
       "max     34.262200  -88.450000  125.900000   78.600000   62.000000  102.000000   \n",
       "\n",
       "              MIN       MXSPD        PRCP          SLP         STP  \\\n",
       "count  930.000000  930.000000  930.000000   930.000000  930.000000   \n",
       "mean    56.897419   15.615806    0.269849  1016.571935    8.804301   \n",
       "std     14.332322    5.435897    0.675066     5.234392    6.007048   \n",
       "min     10.000000    6.000000    0.000000  1002.100000    0.000000   \n",
       "25%     46.900000   12.000000    0.000000  1013.400000    4.025000   \n",
       "50%     60.100000   14.000000    0.000000  1016.000000    7.800000   \n",
       "75%     69.100000   18.100000    0.217500  1019.400000   12.800000   \n",
       "max     80.100000   39.000000    7.190000  1040.200000   34.000000   \n",
       "\n",
       "             TEMP       VISIB        WDSP     TORNADO       APRIL        JULY  \n",
       "count  930.000000  930.000000  930.000000  930.000000  930.000000  930.000000  \n",
       "mean    66.174731    9.140215    6.828065    0.200000    0.146237    0.052688  \n",
       "std     13.122704    1.156484    3.093867    0.400215    0.353533    0.223530  \n",
       "min     20.500000    1.100000    0.900000    0.000000    0.000000    0.000000  \n",
       "25%     58.225000    8.800000    4.600000    0.000000    0.000000    0.000000  \n",
       "50%     68.500000    9.600000    6.300000    0.000000    0.000000    0.000000  \n",
       "75%     76.575000   10.000000    8.600000    0.000000    0.000000    0.000000  \n",
       "max     88.000000   10.000000   21.200000    1.000000    1.000000    1.000000  "
      ]
     },
     "execution_count": 40,
     "metadata": {},
     "output_type": "execute_result"
    }
   ],
   "source": [
    "# compared to summary statistics\n",
    "tornado.describe()"
   ]
  },
  {
   "cell_type": "code",
   "execution_count": 41,
   "metadata": {},
   "outputs": [],
   "source": [
    "X_test.drop(['Y_PRED', 'Y_PRED_PROB', 'TORNADO'], axis=1, inplace=True)"
   ]
  },
  {
   "cell_type": "markdown",
   "metadata": {},
   "source": [
    "# Summary <a class=\"anchor\" id=\"chapter2.3\"></a>"
   ]
  },
  {
   "cell_type": "markdown",
   "metadata": {},
   "source": [
    "After adjusting the features and tuning hyper-parameters, I've come to the decision that the best model is a Random Forest Classifier. I settled on a feature set containing 8 features, LATITUDE, ELEVATION, GUST, SLP, VISIB, WDSP, APRIL, and JULY. This felt like the right amount of features being that it holds the line well of not being too complicated yet still simple enough. \n",
    "\n",
    "Looking at the results of the models, I decided to settle on a precision of 0.5 (or as close as possible), and see which model had the best corresponding recall. Logistic Regression and K-Nearest Neighbors yielded recall scores of 0.86 and 0.88 respectively, while the RFC had a recall of 0.95. This difference in performance was evident throughout the entire hyper-parameter tuning process so I'm confident in this model being the most appropriate for the problem at hand"
   ]
  },
  {
   "cell_type": "code",
   "execution_count": 42,
   "metadata": {
    "scrolled": true
   },
   "outputs": [
    {
     "data": {
      "image/png": "[encoded data removed]",
      "text/plain": [
       "<Figure size 432x288 with 1 Axes>"
      ]
     },
     "metadata": {
      "needs_background": "light"
     },
     "output_type": "display_data"
    }
   ],
   "source": [
    "# plot precision-recall curves for each model in single graph\n",
    "plot_precision_recall_curve(rfc_best, X_test, y_test, ax = plt.gca(),name = \"RFC\")\n",
    "plot_precision_recall_curve(knn, X_test, y_test, ax = plt.gca(),name = \"KNN\")\n",
    "plot_precision_recall_curve(logreg, X_test, y_test, ax = plt.gca(),name = \"Logreg\")\n",
    "\n",
    "# plot line at 0.5 to visualize decision threshold\n",
    "x = [0,1]\n",
    "y = [0.5,0.5]\n",
    "plt.plot(x, y)\n",
    "\n",
    "# label and show\n",
    "plt.title('Precision-Recall curve')\n",
    "plt.show()"
   ]
  },
  {
   "cell_type": "markdown",
   "metadata": {},
   "source": [
    "Even though 0.95 is still not perfect for recall, I think it was a good result given the feature set and their relatively low correlation to the target. Even though 0.05% of tornadoes will go undetected, this is a good start, and different features might lead to more accurate results in the future. If anything, I have shown the difficulty in being certain about a tornado event occuring on a given day."
   ]
  }
 ],
 "metadata": {
  "kernelspec": {
   "display_name": "Python 3",
   "language": "python",
   "name": "python3"
  },
  "language_info": {
   "codemirror_mode": {
    "name": "ipython",
    "version": 3
   },
   "file_extension": ".py",
   "mimetype": "text/x-python",
   "name": "python",
   "nbconvert_exporter": "python",
   "pygments_lexer": "ipython3",
   "version": "3.8.2"
  }
 },
 "nbformat": 4,
 "nbformat_minor": 4
}
