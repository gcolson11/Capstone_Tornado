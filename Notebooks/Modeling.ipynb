{
 "cells": [
  {
   "cell_type": "markdown",
   "metadata": {},
   "source": [
    "# Modeling"
   ]
  },
  {
   "cell_type": "markdown",
   "metadata": {},
   "source": [
    "I'm going to test out a few different models. The most important thing to look for is the recall of each model, since I want to minimize false negative predictions. In the real world, if there is a tornado warning but no tornado, nothing too devastating will happen. However, if there's no warning and a tornado occurs, the consequences could be life-threatening."
   ]
  },
  {
   "cell_type": "code",
   "execution_count": 1,
   "metadata": {},
   "outputs": [],
   "source": [
    "import pandas as pd\n",
    "import numpy as np\n",
    "import matplotlib.pyplot as plt\n",
    "import seaborn as sns\n",
    "\n",
    "from sklearn.model_selection import train_test_split, GridSearchCV, cross_val_score\n",
    "from sklearn.linear_model import LogisticRegression\n",
    "from sklearn.metrics import classification_report, confusion_matrix, roc_curve, auc, accuracy_score, \\\n",
    "                            precision_recall_curve, fbeta_score\n",
    "from sklearn.neighbors import KNeighborsClassifier\n",
    "from sklearn.ensemble import RandomForestClassifier"
   ]
  },
  {
   "cell_type": "code",
   "execution_count": 2,
   "metadata": {},
   "outputs": [],
   "source": [
    "tornado = pd.read_csv('/Users/gregoryolson/Documents/Data Science CT/Capstone/Capstone_Tornado/Data/tornado_modeling.csv')"
   ]
  },
  {
   "cell_type": "code",
   "execution_count": 3,
   "metadata": {},
   "outputs": [],
   "source": [
    "tornado_target = pd.read_csv('/Users/gregoryolson/Documents/Data Science CT/Capstone/Capstone_Tornado/Data/tornado_downsized.csv')"
   ]
  },
  {
   "cell_type": "code",
   "execution_count": 4,
   "metadata": {},
   "outputs": [
    {
     "data": {
      "text/html": [
       "<div>\n",
       "<style scoped>\n",
       "    .dataframe tbody tr th:only-of-type {\n",
       "        vertical-align: middle;\n",
       "    }\n",
       "\n",
       "    .dataframe tbody tr th {\n",
       "        vertical-align: top;\n",
       "    }\n",
       "\n",
       "    .dataframe thead th {\n",
       "        text-align: right;\n",
       "    }\n",
       "</style>\n",
       "<table border=\"1\" class=\"dataframe\">\n",
       "  <thead>\n",
       "    <tr style=\"text-align: right;\">\n",
       "      <th></th>\n",
       "      <th>LATITUDE</th>\n",
       "      <th>LONGITUDE</th>\n",
       "      <th>ELEVATION</th>\n",
       "      <th>DEWP</th>\n",
       "      <th>GUST</th>\n",
       "      <th>MAX</th>\n",
       "      <th>MIN</th>\n",
       "      <th>MXSPD</th>\n",
       "      <th>PRCP</th>\n",
       "      <th>SLP</th>\n",
       "      <th>STP</th>\n",
       "      <th>TEMP</th>\n",
       "      <th>VISIB</th>\n",
       "      <th>WDSP</th>\n",
       "      <th>SEASON</th>\n",
       "    </tr>\n",
       "  </thead>\n",
       "  <tbody>\n",
       "    <tr>\n",
       "      <th>0</th>\n",
       "      <td>-0.319841</td>\n",
       "      <td>-1.512418</td>\n",
       "      <td>0.318182</td>\n",
       "      <td>0.445570</td>\n",
       "      <td>-0.685393</td>\n",
       "      <td>0.695906</td>\n",
       "      <td>0.325359</td>\n",
       "      <td>-0.475410</td>\n",
       "      <td>0.782609</td>\n",
       "      <td>-0.307692</td>\n",
       "      <td>-0.431818</td>\n",
       "      <td>0.400000</td>\n",
       "      <td>-0.090909</td>\n",
       "      <td>-0.230769</td>\n",
       "      <td>2</td>\n",
       "    </tr>\n",
       "    <tr>\n",
       "      <th>1</th>\n",
       "      <td>0.528047</td>\n",
       "      <td>-1.290390</td>\n",
       "      <td>-0.549407</td>\n",
       "      <td>0.470886</td>\n",
       "      <td>-0.438202</td>\n",
       "      <td>0.345029</td>\n",
       "      <td>0.617225</td>\n",
       "      <td>-0.163934</td>\n",
       "      <td>0.000000</td>\n",
       "      <td>-0.353846</td>\n",
       "      <td>0.079545</td>\n",
       "      <td>0.492754</td>\n",
       "      <td>-2.090909</td>\n",
       "      <td>0.641026</td>\n",
       "      <td>3</td>\n",
       "    </tr>\n",
       "    <tr>\n",
       "      <th>2</th>\n",
       "      <td>0.534319</td>\n",
       "      <td>-0.620933</td>\n",
       "      <td>-0.519763</td>\n",
       "      <td>0.658228</td>\n",
       "      <td>-0.786517</td>\n",
       "      <td>0.871345</td>\n",
       "      <td>0.712919</td>\n",
       "      <td>-0.836066</td>\n",
       "      <td>-0.043478</td>\n",
       "      <td>-0.107692</td>\n",
       "      <td>0.306818</td>\n",
       "      <td>0.921739</td>\n",
       "      <td>0.090909</td>\n",
       "      <td>-0.384615</td>\n",
       "      <td>2</td>\n",
       "    </tr>\n",
       "    <tr>\n",
       "      <th>3</th>\n",
       "      <td>0.000000</td>\n",
       "      <td>-0.614303</td>\n",
       "      <td>0.667984</td>\n",
       "      <td>-0.172152</td>\n",
       "      <td>-0.898876</td>\n",
       "      <td>0.807018</td>\n",
       "      <td>-0.148325</td>\n",
       "      <td>-0.475410</td>\n",
       "      <td>-0.043478</td>\n",
       "      <td>-0.553846</td>\n",
       "      <td>-0.818182</td>\n",
       "      <td>0.278261</td>\n",
       "      <td>0.272727</td>\n",
       "      <td>-0.948718</td>\n",
       "      <td>4</td>\n",
       "    </tr>\n",
       "    <tr>\n",
       "      <th>4</th>\n",
       "      <td>-0.471953</td>\n",
       "      <td>0.000000</td>\n",
       "      <td>-0.411067</td>\n",
       "      <td>-0.197468</td>\n",
       "      <td>-0.337079</td>\n",
       "      <td>0.052632</td>\n",
       "      <td>-0.052632</td>\n",
       "      <td>-0.327869</td>\n",
       "      <td>-0.043478</td>\n",
       "      <td>0.384615</td>\n",
       "      <td>0.590909</td>\n",
       "      <td>-0.086957</td>\n",
       "      <td>0.181818</td>\n",
       "      <td>-0.230769</td>\n",
       "      <td>1</td>\n",
       "    </tr>\n",
       "  </tbody>\n",
       "</table>\n",
       "</div>"
      ],
      "text/plain": [
       "   LATITUDE  LONGITUDE  ELEVATION      DEWP      GUST       MAX       MIN  \\\n",
       "0 -0.319841  -1.512418   0.318182  0.445570 -0.685393  0.695906  0.325359   \n",
       "1  0.528047  -1.290390  -0.549407  0.470886 -0.438202  0.345029  0.617225   \n",
       "2  0.534319  -0.620933  -0.519763  0.658228 -0.786517  0.871345  0.712919   \n",
       "3  0.000000  -0.614303   0.667984 -0.172152 -0.898876  0.807018 -0.148325   \n",
       "4 -0.471953   0.000000  -0.411067 -0.197468 -0.337079  0.052632 -0.052632   \n",
       "\n",
       "      MXSPD      PRCP       SLP       STP      TEMP     VISIB      WDSP  \\\n",
       "0 -0.475410  0.782609 -0.307692 -0.431818  0.400000 -0.090909 -0.230769   \n",
       "1 -0.163934  0.000000 -0.353846  0.079545  0.492754 -2.090909  0.641026   \n",
       "2 -0.836066 -0.043478 -0.107692  0.306818  0.921739  0.090909 -0.384615   \n",
       "3 -0.475410 -0.043478 -0.553846 -0.818182  0.278261  0.272727 -0.948718   \n",
       "4 -0.327869 -0.043478  0.384615  0.590909 -0.086957  0.181818 -0.230769   \n",
       "\n",
       "   SEASON  \n",
       "0       2  \n",
       "1       3  \n",
       "2       2  \n",
       "3       4  \n",
       "4       1  "
      ]
     },
     "execution_count": 4,
     "metadata": {},
     "output_type": "execute_result"
    }
   ],
   "source": [
    "tornado.head()"
   ]
  },
  {
   "cell_type": "markdown",
   "metadata": {},
   "source": [
    "I found that the most relevant features were GUST and SLP while testing feature importance. Other features that were less important but still significant to some degree were DEWP, MXSPD, VISIB, and LON. These will be the features that I use during the modeling process."
   ]
  },
  {
   "cell_type": "code",
   "execution_count": 5,
   "metadata": {},
   "outputs": [],
   "source": [
    "# list of relevant columns\n",
    "features = ['GUST', 'SLP', 'DEWP', 'MXSPD', 'VISIB', 'LONGITUDE']"
   ]
  },
  {
   "cell_type": "code",
   "execution_count": 6,
   "metadata": {},
   "outputs": [],
   "source": [
    "# create X and y variables\n",
    "X = tornado[features]\n",
    "y = tornado_target['TORNADO']"
   ]
  },
  {
   "cell_type": "code",
   "execution_count": 7,
   "metadata": {},
   "outputs": [],
   "source": [
    "# split data into train and test sets\n",
    "X_train, X_test, y_train, y_test = train_test_split(X, y, test_size=0.25, random_state=42)"
   ]
  },
  {
   "cell_type": "markdown",
   "metadata": {},
   "source": [
    "# Logistic Regression"
   ]
  },
  {
   "cell_type": "code",
   "execution_count": 8,
   "metadata": {},
   "outputs": [
    {
     "name": "stdout",
     "output_type": "stream",
     "text": [
      "Tuned Logistic Regression Parameters: {'C': 0.4393970560760795}\n",
      "Tuned Logistic Regression R squared: 0.8507462686567164\n",
      "Best score is 0.8902777777777778\n"
     ]
    }
   ],
   "source": [
    "c_space = np.logspace(-5, 8, 15)\n",
    "param_grid = {'C': c_space}\n",
    "\n",
    "logreg = LogisticRegression()\n",
    "logreg_cv = GridSearchCV(logreg, param_grid, cv=5)\n",
    "logreg_cv.fit(X_train, y_train)\n",
    "\n",
    "y_pred = logreg_cv.predict(X_test)\n",
    "r2 = logreg_cv.score(X_test, y_test)\n",
    "\n",
    "print(\"Tuned Logistic Regression Parameters: {}\".format(logreg_cv.best_params_)) \n",
    "print(\"Tuned Logistic Regression R squared: {}\".format(r2))\n",
    "print(\"Best score is {}\".format(logreg_cv.best_score_))"
   ]
  },
  {
   "cell_type": "code",
   "execution_count": 9,
   "metadata": {},
   "outputs": [
    {
     "name": "stdout",
     "output_type": "stream",
     "text": [
      "[[99  3]\n",
      " [17 15]]\n",
      "              precision    recall  f1-score   support\n",
      "\n",
      "           0       0.85      0.97      0.91       102\n",
      "           1       0.83      0.47      0.60        32\n",
      "\n",
      "    accuracy                           0.85       134\n",
      "   macro avg       0.84      0.72      0.75       134\n",
      "weighted avg       0.85      0.85      0.83       134\n",
      "\n"
     ]
    }
   ],
   "source": [
    "# print confusion matrix and classification report\n",
    "cm = confusion_matrix(y_test, y_pred)\n",
    "cr = classification_report(y_test, y_pred)\n",
    "print(cm)\n",
    "print(cr)"
   ]
  },
  {
   "cell_type": "code",
   "execution_count": 10,
   "metadata": {},
   "outputs": [
    {
     "data": {
      "image/png": "[encoded data removed]",
      "text/plain": [
       "<Figure size 504x504 with 2 Axes>"
      ]
     },
     "metadata": {
      "needs_background": "light"
     },
     "output_type": "display_data"
    }
   ],
   "source": [
    "# plot confusion matrix in seaborn heatmap\n",
    "plt.figure(figsize=(7,7))\n",
    "sns.heatmap(cm, annot=True, fmt='.0f', linewidth=1, linecolor='black', square = True, cmap = 'Blues_r');\n",
    "plt.ylabel('Actual');\n",
    "plt.xlabel('Predicted');\n",
    "all_sample_title = 'Accuracy Score: {0}'.format(r2)\n",
    "plt.title(all_sample_title);"
   ]
  },
  {
   "cell_type": "code",
   "execution_count": 11,
   "metadata": {
    "scrolled": false
   },
   "outputs": [
    {
     "data": {
      "image/png": "[encoded data removed]",
      "text/plain": [
       "<Figure size 432x288 with 1 Axes>"
      ]
     },
     "metadata": {
      "needs_background": "light"
     },
     "output_type": "display_data"
    },
    {
     "name": "stdout",
     "output_type": "stream",
     "text": [
      "ROC_AUC:  0.8869485294117647\n"
     ]
    }
   ],
   "source": [
    "# Compute predicted probabilities: y_pred_prob\n",
    "y_pred_prob = logreg_cv.predict_proba(X_test)[:,1]\n",
    "\n",
    "# Generate ROC curve values: fpr, tpr, thresholds\n",
    "fpr, tpr, thresholds = roc_curve(y_test, y_pred_prob)\n",
    "roc_auc = auc(fpr, tpr)\n",
    "\n",
    "# Plot ROC curve\n",
    "plt.plot([0, 1], [0, 1], 'k--')\n",
    "plt.plot(fpr, tpr, 'b', label = 'AUC = %0.2f' % roc_auc)\n",
    "plt.xlabel('False Positive Rate')\n",
    "plt.ylabel('True Positive Rate')\n",
    "plt.title('ROC Curve')\n",
    "plt.show()\n",
    "print('ROC_AUC: ', roc_auc)"
   ]
  },
  {
   "cell_type": "code",
   "execution_count": 12,
   "metadata": {},
   "outputs": [
    {
     "name": "stdout",
     "output_type": "stream",
     "text": [
      "Best Threshold=0.200888\n"
     ]
    }
   ],
   "source": [
    "# find best threshold\n",
    "J = tpr - fpr\n",
    "ix = np.argmax(J)\n",
    "best_thresh = thresholds[ix]\n",
    "print('Best Threshold=%f' % (best_thresh))"
   ]
  },
  {
   "cell_type": "markdown",
   "metadata": {},
   "source": [
    "# K-Nearest Neighbors"
   ]
  },
  {
   "cell_type": "code",
   "execution_count": 13,
   "metadata": {},
   "outputs": [
    {
     "name": "stdout",
     "output_type": "stream",
     "text": [
      "[0.85046729 0.8317757  0.82242991 0.91588785 0.86915888]\n",
      "cv_scores mean: 0.8579439252336447\n"
     ]
    }
   ],
   "source": [
    "# use cross-validation to check accuracy of each instance\n",
    "knn_cv = KNeighborsClassifier()\n",
    "cv_scores = cross_val_score(knn_cv, X, y, cv=5)\n",
    "\n",
    "# print each accuracy score and the average\n",
    "print(cv_scores)\n",
    "print('cv_scores mean: {}'.format(np.mean(cv_scores)))"
   ]
  },
  {
   "cell_type": "code",
   "execution_count": 14,
   "metadata": {},
   "outputs": [
    {
     "name": "stdout",
     "output_type": "stream",
     "text": [
      "{'n_neighbors': 9}\n",
      "0.8822429906542055\n"
     ]
    }
   ],
   "source": [
    "# use GridSearchCV to find best value of C\n",
    "knn2 = KNeighborsClassifier()\n",
    "param_grid = {'n_neighbors': np.arange(1, 25)}\n",
    "knn_gscv = GridSearchCV(knn2, param_grid, cv=5)\n",
    "knn_gscv.fit(X, y)\n",
    "\n",
    "print(knn_gscv.best_params_)\n",
    "print(knn_gscv.best_score_)"
   ]
  },
  {
   "cell_type": "code",
   "execution_count": 15,
   "metadata": {},
   "outputs": [],
   "source": [
    "# instantiate final KNN classifier, with optimal n_neighbors value\n",
    "knn = KNeighborsClassifier(n_neighbors=9)\n",
    "knn.fit(X_train, y_train)\n",
    "y_pred = knn.predict(X_test)\n",
    "knn_score = knn.score(X_test, y_test)"
   ]
  },
  {
   "cell_type": "code",
   "execution_count": 16,
   "metadata": {},
   "outputs": [
    {
     "name": "stdout",
     "output_type": "stream",
     "text": [
      "[[96  6]\n",
      " [11 21]]\n",
      "              precision    recall  f1-score   support\n",
      "\n",
      "           0       0.90      0.94      0.92       102\n",
      "           1       0.78      0.66      0.71        32\n",
      "\n",
      "    accuracy                           0.87       134\n",
      "   macro avg       0.84      0.80      0.82       134\n",
      "weighted avg       0.87      0.87      0.87       134\n",
      "\n"
     ]
    }
   ],
   "source": [
    "# print confusion matrix and classification report\n",
    "cm_knn = confusion_matrix(y_test, y_pred)\n",
    "cr_knn = classification_report(y_test, y_pred)\n",
    "print(cm_knn)\n",
    "print(cr_knn)"
   ]
  },
  {
   "cell_type": "code",
   "execution_count": 17,
   "metadata": {},
   "outputs": [
    {
     "data": {
      "image/png": "[encoded data removed]",
      "text/plain": [
       "<Figure size 504x504 with 2 Axes>"
      ]
     },
     "metadata": {
      "needs_background": "light"
     },
     "output_type": "display_data"
    }
   ],
   "source": [
    "# plot confusion matrix in seaborn heatmap\n",
    "plt.figure(figsize=(7,7))\n",
    "sns.heatmap(cm_knn, annot=True, fmt='.0f', linewidth=1, linecolor='black', square = True, cmap = 'Blues_r');\n",
    "plt.ylabel('Actual');\n",
    "plt.xlabel('Predicted');\n",
    "all_sample_title = 'Accuracy Score: {0}'.format(knn_score)\n",
    "plt.title(all_sample_title);"
   ]
  },
  {
   "cell_type": "code",
   "execution_count": 18,
   "metadata": {},
   "outputs": [
    {
     "data": {
      "image/png": "[encoded data removed]",
      "text/plain": [
       "<Figure size 432x288 with 1 Axes>"
      ]
     },
     "metadata": {
      "needs_background": "light"
     },
     "output_type": "display_data"
    },
    {
     "name": "stdout",
     "output_type": "stream",
     "text": [
      "ROC_AUC:  0.901501225490196\n"
     ]
    }
   ],
   "source": [
    "# Compute predicted probabilities: y_pred_prob\n",
    "y_pred_prob = knn.predict_proba(X_test)[:,1]\n",
    "\n",
    "# Generate ROC curve values: fpr, tpr, thresholds\n",
    "fpr, tpr, thresholds = roc_curve(y_test, y_pred_prob)\n",
    "roc_auc = auc(fpr, tpr)\n",
    "\n",
    "# Plot ROC curve\n",
    "plt.plot([0, 1], [0, 1], 'k--')\n",
    "plt.plot(fpr, tpr, 'b', label = 'AUC = %0.2f' % roc_auc)\n",
    "plt.xlabel('False Positive Rate')\n",
    "plt.ylabel('True Positive Rate')\n",
    "plt.title('ROC Curve')\n",
    "plt.show()\n",
    "print('ROC_AUC: ', roc_auc)"
   ]
  },
  {
   "cell_type": "code",
   "execution_count": 19,
   "metadata": {},
   "outputs": [
    {
     "name": "stdout",
     "output_type": "stream",
     "text": [
      "Best Threshold=0.222222\n"
     ]
    }
   ],
   "source": [
    "# find best threshold\n",
    "J = tpr - fpr\n",
    "ix = np.argmax(J)\n",
    "best_thresh = thresholds[ix]\n",
    "print('Best Threshold=%f' % (best_thresh))"
   ]
  },
  {
   "cell_type": "markdown",
   "metadata": {},
   "source": [
    "# Random Forest"
   ]
  },
  {
   "cell_type": "markdown",
   "metadata": {},
   "source": [
    "Need to do GridSearchCV on RF Classifier like above 2 models"
   ]
  },
  {
   "cell_type": "code",
   "execution_count": 20,
   "metadata": {},
   "outputs": [],
   "source": [
    "rfc = RandomForestClassifier(random_state=42)\n",
    "param_grid = {\n",
    "    'n_estimators': [100,500],\n",
    "    'max_features': ['auto', 'sqrt', 'log2'],\n",
    "    'max_depth': [3,4,5,6,7,8],\n",
    "    'criterion': ['gini', 'entropy']\n",
    "}\n",
    "\n",
    "#rfc_cv = GridSearchCV(estimator=rfc, param_grid=param_grid, cv=5)\n",
    "#rfc_cv.fit(X_train, y_train)"
   ]
  },
  {
   "cell_type": "code",
   "execution_count": 21,
   "metadata": {},
   "outputs": [],
   "source": [
    "#rfc_cv.best_params_"
   ]
  },
  {
   "cell_type": "code",
   "execution_count": 22,
   "metadata": {},
   "outputs": [
    {
     "name": "stdout",
     "output_type": "stream",
     "text": [
      "Accuracy for Random Forest on CV data:  0.917910447761194\n"
     ]
    }
   ],
   "source": [
    "rfc_best = RandomForestClassifier(random_state=42, max_features='auto', n_estimators=200, max_depth=8, criterion='gini')\n",
    "rfc_best.fit(X_train, y_train)\n",
    "y_pred = rfc_best.predict(X_test)\n",
    "rfc_score = rfc_best.score(X_test, y_test)\n",
    "\n",
    "print(\"Accuracy for Random Forest on CV data: \",accuracy_score(y_test, y_pred))"
   ]
  },
  {
   "cell_type": "code",
   "execution_count": 23,
   "metadata": {
    "scrolled": true
   },
   "outputs": [
    {
     "name": "stdout",
     "output_type": "stream",
     "text": [
      "[[99  3]\n",
      " [ 8 24]]\n",
      "              precision    recall  f1-score   support\n",
      "\n",
      "           0       0.93      0.97      0.95       102\n",
      "           1       0.89      0.75      0.81        32\n",
      "\n",
      "    accuracy                           0.92       134\n",
      "   macro avg       0.91      0.86      0.88       134\n",
      "weighted avg       0.92      0.92      0.92       134\n",
      "\n"
     ]
    }
   ],
   "source": [
    "rfc_cv_score = cross_val_score(rfc, X, y, cv=10, scoring='roc_auc')\n",
    "cm_rfc = confusion_matrix(y_test, y_pred)\n",
    "cr_rfc = classification_report(y_test, y_pred)\n",
    "print(cm_rfc)\n",
    "print(cr_rfc)"
   ]
  },
  {
   "cell_type": "code",
   "execution_count": 24,
   "metadata": {
    "scrolled": true
   },
   "outputs": [
    {
     "name": "stdout",
     "output_type": "stream",
     "text": [
      "[0.7832981  0.91226216 0.93657505 0.91014799 0.82029598 0.99767442\n",
      " 0.98604651 0.99534884 0.94264069 0.745671  ]\n",
      "Mean AUC Score:  0.9029960736937481\n"
     ]
    }
   ],
   "source": [
    "print(rfc_cv_score)\n",
    "print(\"Mean AUC Score: \", rfc_cv_score.mean())"
   ]
  },
  {
   "cell_type": "code",
   "execution_count": 25,
   "metadata": {},
   "outputs": [
    {
     "data": {
      "image/png": "[encoded data removed]",
      "text/plain": [
       "<Figure size 504x504 with 2 Axes>"
      ]
     },
     "metadata": {
      "needs_background": "light"
     },
     "output_type": "display_data"
    }
   ],
   "source": [
    "# plot confusion matrix in seaborn heatmap\n",
    "plt.figure(figsize=(7,7))\n",
    "sns.heatmap(cm_rfc, annot=True, fmt='.0f', linewidth=1, linecolor='black', square = True, cmap = 'Blues_r');\n",
    "plt.ylabel('Actual');\n",
    "plt.xlabel('Predicted');\n",
    "all_sample_title = 'Accuracy Score: {0}'.format(rfc_score)\n",
    "plt.title(all_sample_title);"
   ]
  },
  {
   "cell_type": "code",
   "execution_count": 26,
   "metadata": {},
   "outputs": [
    {
     "data": {
      "image/png": "[encoded data removed]",
      "text/plain": [
       "<Figure size 432x288 with 1 Axes>"
      ]
     },
     "metadata": {
      "needs_background": "light"
     },
     "output_type": "display_data"
    },
    {
     "name": "stdout",
     "output_type": "stream",
     "text": [
      "ROC_AUC:  0.914828431372549\n"
     ]
    }
   ],
   "source": [
    "# Compute predicted probabilities: y_pred_prob\n",
    "y_pred_prob = rfc_best.predict_proba(X_test)[:,1]\n",
    "\n",
    "# Generate ROC curve values: fpr, tpr, thresholds\n",
    "fpr, tpr, thresholds = roc_curve(y_test, y_pred_prob)\n",
    "roc_auc = auc(fpr, tpr)\n",
    "\n",
    "# Plot ROC curve\n",
    "plt.plot([0, 1], [0, 1], 'k--')\n",
    "plt.plot(fpr, tpr, 'b', label = 'AUC = %0.2f' % roc_auc)\n",
    "plt.xlabel('False Positive Rate')\n",
    "plt.ylabel('True Positive Rate')\n",
    "plt.title('ROC Curve')\n",
    "plt.show()\n",
    "print('ROC_AUC: ', roc_auc)"
   ]
  },
  {
   "cell_type": "code",
   "execution_count": 27,
   "metadata": {},
   "outputs": [
    {
     "name": "stdout",
     "output_type": "stream",
     "text": [
      "Best Threshold=0.481432\n"
     ]
    }
   ],
   "source": [
    "# find best threshold\n",
    "J = tpr - fpr\n",
    "ix = np.argmax(J)\n",
    "best_thresh = thresholds[ix]\n",
    "print('Best Threshold=%f' % (best_thresh))"
   ]
  },
  {
   "cell_type": "code",
   "execution_count": 28,
   "metadata": {},
   "outputs": [
    {
     "data": {
      "text/plain": [
       "<matplotlib.legend.Legend at 0x7f9a770bc670>"
      ]
     },
     "execution_count": 28,
     "metadata": {},
     "output_type": "execute_result"
    },
    {
     "data": {
      "image/png": "[encoded data removed]",
      "text/plain": [
       "<Figure size 432x288 with 1 Axes>"
      ]
     },
     "metadata": {
      "needs_background": "light"
     },
     "output_type": "display_data"
    }
   ],
   "source": [
    "precision, recall, thresholds = precision_recall_curve(y_test, y_pred_prob)\n",
    "plt.plot(recall, precision, marker='.', label='RFC')\n",
    "plt.xlabel('Recall')\n",
    "plt.ylabel('Precision')\n",
    "plt.legend()"
   ]
  },
  {
   "cell_type": "code",
   "execution_count": 29,
   "metadata": {},
   "outputs": [
    {
     "name": "stdout",
     "output_type": "stream",
     "text": [
      "Best Threshold=0.672042, F-Score=0.857\n"
     ]
    }
   ],
   "source": [
    "fscore = (2 * precision * recall) / (precision + recall)\n",
    "ix = np.argmax(fscore)\n",
    "print('Best Threshold=%f, F-Score=%.3f' % (thresholds[ix], fscore[ix]))"
   ]
  },
  {
   "cell_type": "code",
   "execution_count": 31,
   "metadata": {},
   "outputs": [
    {
     "data": {
      "text/plain": [
       "0.915617331134087"
      ]
     },
     "execution_count": 31,
     "metadata": {},
     "output_type": "execute_result"
    }
   ],
   "source": [
    "fbeta_score(y_test, y_pred, average='weighted', beta=0.5)"
   ]
  },
  {
   "cell_type": "markdown",
   "metadata": {},
   "source": [
    "# Summary"
   ]
  },
  {
   "cell_type": "markdown",
   "metadata": {},
   "source": [
    "Of all of the models, the best is probably the Random Forest Classifier. It yields the highest ROC_AUC score, as well as a recall of 0.92, compared to 0.85 and 0.87 for Logistic Regression and K-Nearest Neighbors respectively. Even still, I'd like the recall scores to be higher, since a false negative predicition could be life or death."
   ]
  }
 ],
 "metadata": {
  "kernelspec": {
   "display_name": "Python 3",
   "language": "python",
   "name": "python3"
  },
  "language_info": {
   "codemirror_mode": {
    "name": "ipython",
    "version": 3
   },
   "file_extension": ".py",
   "mimetype": "text/x-python",
   "name": "python",
   "nbconvert_exporter": "python",
   "pygments_lexer": "ipython3",
   "version": "3.8.2"
  }
 },
 "nbformat": 4,
 "nbformat_minor": 4
}
